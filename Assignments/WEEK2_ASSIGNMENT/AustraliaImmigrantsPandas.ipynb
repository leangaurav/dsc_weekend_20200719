{
 "cells": [
  {
   "cell_type": "markdown",
   "metadata": {},
   "source": [
    "- Read sheet \"Australia by Residence\" from Australia.xlsx\n",
    "- Ignore the first 20 rows.\n",
    "- List all Column and Row indexes(Print their names)\n",
    "\n",
    "Dataset Analysis\n",
    "- Describe the dataset\n",
    "- Use values and index attributes on both Row and Column Indexes\n",
    "- Check Shape, Datatypes and other attributes and observe the datatype of each columns' data\n",
    "  \n",
    "\n",
    "Drop\n",
    "- Delete all Data where the Type = \"Emigrants\" or Type is not \"Immigrants\" (Row Deletion)\n",
    "- Find columns for which more than 50% data is missing and drop them (Column Deletion)\n",
    "- Drop Unnessary Columns: Type, Coverage, Area, Reg, Dev (Column deletion)\n",
    "    Your columns should now look like \"OdName,AreaName,RegName,DevName,1980 ... 2008\"\n",
    "\n",
    "Rename\n",
    "- Rename columns :OdName -> Country; RegName -> Region\n",
    "- Convert Column Names with Int type to Strings to avoid index errors with string indexing \"1980, 1981 etc.\" => \" '1980', '1981' ... \" (Use rename)\n",
    "- Find Total number of immigrants for all years, and create a new column Total in data Frame\n",
    "\n",
    "Head Tail Sort\n",
    "- Sort Data by the new column Total in descending order and analyze the fist few rows. (get first few rows using head)\n",
    "    - find something weird in the dataset ? Delete that row 'world'\n",
    "- Analyze last few rows also in the sorted result (Don't sort inplace)\n",
    "\n",
    "- Check if these have all unique values or not:\n",
    "    - countries\n",
    "    - continents (AreaName)\n",
    "    - country continent pairs\n",
    "\n",
    "\n",
    "- Find countries for which no of immigrants for all years is 0\n",
    "- Find count of above countries\n",
    "- Find countries for which no of immigrants is 0 for any year\n",
    "\n",
    "Save Data\n",
    "- Drop the row where AreaName is 'World'\n",
    "- Save the dataset to a new file AustraliaFiltered.xlsx"
   ]
  },
  {
   "cell_type": "code",
   "execution_count": null,
   "metadata": {},
   "outputs": [],
   "source": [
    "pd.DataFrame.drop_duplicates()"
   ]
  },
  {
   "cell_type": "code",
   "execution_count": 1,
   "metadata": {},
   "outputs": [
    {
     "ename": "NameError",
     "evalue": "name 'df' is not defined",
     "output_type": "error",
     "traceback": [
      "\u001b[1;31m---------------------------------------------------------------------------\u001b[0m",
      "\u001b[1;31mNameError\u001b[0m                                 Traceback (most recent call last)",
      "\u001b[1;32m<ipython-input-1-91bca0b75ce6>\u001b[0m in \u001b[0;36m<module>\u001b[1;34m\u001b[0m\n\u001b[1;32m----> 1\u001b[1;33m \u001b[0mdf\u001b[0m\u001b[1;33m.\u001b[0m\u001b[0mcolumns\u001b[0m \u001b[1;33m=\u001b[0m \u001b[0mlist\u001b[0m\u001b[1;33m(\u001b[0m\u001b[0mmap\u001b[0m\u001b[1;33m(\u001b[0m\u001b[0mstr\u001b[0m\u001b[1;33m,\u001b[0m \u001b[0mdf\u001b[0m\u001b[1;33m.\u001b[0m\u001b[0mcolumns\u001b[0m\u001b[1;33m)\u001b[0m\u001b[1;33m)\u001b[0m\u001b[1;33m\u001b[0m\u001b[1;33m\u001b[0m\u001b[0m\n\u001b[0m\u001b[0;32m      2\u001b[0m \u001b[1;33m\u001b[0m\u001b[0m\n\u001b[0;32m      3\u001b[0m \u001b[1;32mdef\u001b[0m \u001b[0mconverter\u001b[0m\u001b[1;33m(\u001b[0m\u001b[0mcol\u001b[0m\u001b[1;33m)\u001b[0m\u001b[1;33m:\u001b[0m\u001b[1;33m\u001b[0m\u001b[1;33m\u001b[0m\u001b[0m\n\u001b[0;32m      4\u001b[0m     \u001b[1;32mif\u001b[0m \u001b[0misinstance\u001b[0m\u001b[1;33m(\u001b[0m\u001b[0mint\u001b[0m\u001b[1;33m,\u001b[0m \u001b[0mcol\u001b[0m\u001b[1;33m)\u001b[0m\u001b[1;33m:\u001b[0m\u001b[1;33m\u001b[0m\u001b[1;33m\u001b[0m\u001b[0m\n\u001b[0;32m      5\u001b[0m         \u001b[1;32mreturn\u001b[0m \u001b[0mstr\u001b[0m\u001b[1;33m(\u001b[0m\u001b[0mcol\u001b[0m\u001b[1;33m)\u001b[0m\u001b[1;33m\u001b[0m\u001b[1;33m\u001b[0m\u001b[0m\n",
      "\u001b[1;31mNameError\u001b[0m: name 'df' is not defined"
     ]
    }
   ],
   "source": [
    "#df.columns = list(map(str, df.columns))\n",
    "def converter(col):\n",
    "    if isinstance(int, col):\n",
    "        return str(col)\n",
    "    return col\n",
    "\n",
    "list(map(converter, df.columns))"
   ]
  },
  {
   "cell_type": "code",
   "execution_count": null,
   "metadata": {},
   "outputs": [],
   "source": [
    "r = df.loc[:, '1980':'2008'] == 0\n",
    "r.any()"
   ]
  },
  {
   "cell_type": "code",
   "execution_count": null,
   "metadata": {},
   "outputs": [],
   "source": [
    "bools = df.count() < int(df.size[0]*0.5)\n",
    "df.colums[bools]\n",
    "\n",
    "\n",
    "df_Australia.loc[df_Australia[df_Australia.columns[4:]].apply(lambda x:x==0).any(axis=1),['Country']]\n"
   ]
  },
  {
   "cell_type": "code",
   "execution_count": 2,
   "metadata": {},
   "outputs": [],
   "source": [
    "import pandas as pd"
   ]
  },
  {
   "cell_type": "code",
   "execution_count": 4,
   "metadata": {},
   "outputs": [
    {
     "data": {
      "text/plain": [
       "0    10\n",
       "3    15\n",
       "dtype: int64"
      ]
     },
     "execution_count": 4,
     "metadata": {},
     "output_type": "execute_result"
    }
   ],
   "source": [
    "s = pd.Series([10,20,30,15])\n",
    "\n",
    "s[ s <= 15]"
   ]
  }
 ],
 "metadata": {
  "kernelspec": {
   "display_name": "Python 3",
   "language": "python",
   "name": "python3"
  },
  "language_info": {
   "codemirror_mode": {
    "name": "ipython",
    "version": 3
   },
   "file_extension": ".py",
   "mimetype": "text/x-python",
   "name": "python",
   "nbconvert_exporter": "python",
   "pygments_lexer": "ipython3",
   "version": "3.7.4"
  }
 },
 "nbformat": 4,
 "nbformat_minor": 2
}
