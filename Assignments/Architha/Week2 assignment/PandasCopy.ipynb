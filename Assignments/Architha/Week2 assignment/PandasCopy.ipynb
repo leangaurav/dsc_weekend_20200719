{
 "cells": [
  {
   "cell_type": "code",
   "execution_count": 1,
   "metadata": {},
   "outputs": [],
   "source": [
    "# all imports go at the top, even though python is a very open language\n",
    "import numpy as np\n",
    "import pandas as pd "
   ]
  },
  {
   "cell_type": "markdown",
   "metadata": {},
   "source": [
    "## Series"
   ]
  },
  {
   "cell_type": "code",
   "execution_count": 50,
   "metadata": {},
   "outputs": [
    {
     "name": "stdout",
     "output_type": "stream",
     "text": [
      "0    1\n",
      "1    2\n",
      "2    3\n",
      "dtype: int64\n",
      "\n",
      "a    1.0\n",
      "b    2.0\n",
      "c    3.0\n",
      "d    NaN\n",
      "dtype: float64\n"
     ]
    }
   ],
   "source": [
    "# Normal series and series with custom index\n",
    "import pandas as pd\n",
    "import numpy as np\n",
    "s1 = pd.Series([1,2,3])\n",
    "s2 = pd.Series([1,2,3, np.nan], index=list(\"abcd\"))\n",
    "print(s1)\n",
    "print()\n",
    "print(s2)"
   ]
  },
  {
   "cell_type": "code",
   "execution_count": 9,
   "metadata": {},
   "outputs": [
    {
     "name": "stdout",
     "output_type": "stream",
     "text": [
      "0    1.0\n",
      "1    2.0\n",
      "2    3.0\n",
      "dtype: float64\n"
     ]
    }
   ],
   "source": [
    "# changing dtype: astype\n",
    "print(s1.astype('float64'))"
   ]
  },
  {
   "cell_type": "code",
   "execution_count": 17,
   "metadata": {},
   "outputs": [
    {
     "name": "stdout",
     "output_type": "stream",
     "text": [
      "(3,)\n",
      "3\n",
      "int64\n",
      "RangeIndex(start=0, stop=3, step=1)\n",
      "[1 2 3]\n",
      "<class 'numpy.ndarray'>\n",
      "<class 'pandas.core.series.Series'>\n",
      "\n",
      "Index(['a', 'b', 'c', 'd'], dtype='object')\n"
     ]
    }
   ],
   "source": [
    "# shape, size, dtype, index, values\n",
    "print(s1.shape)\n",
    "print(s1.size)\n",
    "print(s1.dtype)\n",
    "print(s1.index)\n",
    "print(s1.values)\n",
    "print(type(s1.values))\n",
    "print(type(s1))\n",
    "\n",
    "print()\n",
    "print(s2.index)"
   ]
  },
  {
   "cell_type": "code",
   "execution_count": 51,
   "metadata": {},
   "outputs": [
    {
     "name": "stdout",
     "output_type": "stream",
     "text": [
      "1\n",
      "3\n",
      "6\n",
      "\n",
      "1.0\n",
      "3.0\n",
      "6.0\n",
      "\n",
      "[ 1 11  2  3]\n"
     ]
    }
   ],
   "source": [
    "# aggregate operations: min, max, unique, sum etc.\n",
    "print(s1.min())\n",
    "print(s1.max())\n",
    "print(s1.sum())\n",
    "print()\n",
    "print(s2.min())\n",
    "print(s2.max())\n",
    "print(s2.sum())\n",
    "print()\n",
    "r=pd.Series([1,11,2,2,3])\n",
    "print(r.unique()) #gives unique elements"
   ]
  },
  {
   "cell_type": "code",
   "execution_count": 6,
   "metadata": {},
   "outputs": [
    {
     "name": "stdout",
     "output_type": "stream",
     "text": [
      "Sum of series:  0     NaN\n",
      "1     NaN\n",
      "2    31.0\n",
      "3     NaN\n",
      "4     NaN\n",
      "5     NaN\n",
      "dtype: float64\n",
      "\n",
      "Difference is:  0     NaN\n",
      "1     NaN\n",
      "2    29.0\n",
      "3     NaN\n",
      "4     NaN\n",
      "5     NaN\n",
      "dtype: float64\n",
      "\n",
      "Product is :  0     NaN\n",
      "1     NaN\n",
      "2    30.0\n",
      "3     NaN\n",
      "4     NaN\n",
      "5     NaN\n",
      "dtype: float64\n",
      "\n",
      "Division gives:  0     NaN\n",
      "1     NaN\n",
      "2    30.0\n",
      "3     NaN\n",
      "4     NaN\n",
      "5     NaN\n",
      "dtype: float64\n",
      "\n"
     ]
    }
   ],
   "source": [
    "# arithmetic operations(new copy) and broadcast like numpy\n",
    "\n",
    "s1=pd.Series([10,20,30])\n",
    "s2=pd.Series([1,2,3,7],index=[2,3,4,5])\n",
    "sum=s1+s2\n",
    "print('Sum of series: ',sum)\n",
    "print()\n",
    "diff=s1-s2\n",
    "print('Difference is: ',diff)\n",
    "print()\n",
    "mul=s1*s2\n",
    "print('Product is : ',mul)\n",
    "print()\n",
    "div=s1/s2\n",
    "print('Division gives: ',div)\n",
    "print()"
   ]
  },
  {
   "cell_type": "code",
   "execution_count": 46,
   "metadata": {},
   "outputs": [
    {
     "name": "stdout",
     "output_type": "stream",
     "text": [
      "1    20\n",
      "2    30\n",
      "dtype: int64\n",
      "Type of slicing:  <class 'pandas.core.series.Series'>\n",
      "7\n",
      "Type of indexing:  <class 'numpy.int64'>\n",
      "\n",
      "S2 slicing:  5    7\n",
      "dtype: int64\n",
      "\n",
      "Boolean indexing gives:  2    1\n",
      "3    2\n",
      "5    7\n",
      "dtype: int64\n"
     ]
    }
   ],
   "source": [
    "# indexing and slicing\n",
    "\n",
    "s1=pd.Series([10,20,30,40])\n",
    "s2=pd.Series([1,2,3,7],index=[2,3,4,5])\n",
    "print(s1[1:3])   #slicing\n",
    "print('Type of slicing: ',type(s1[1:2]))\n",
    "print(s2[5])     #indexing\n",
    "print('Type of indexing: ',type(s2[5]))\n",
    "print()\n",
    "print('S2 slicing: ',s2[3:4])\n",
    "print()\n",
    "print('Boolean indexing gives: ',s2[[True,True,False,True]]) #Boolean indexing\n"
   ]
  },
  {
   "cell_type": "code",
   "execution_count": 42,
   "metadata": {},
   "outputs": [
    {
     "name": "stdout",
     "output_type": "stream",
     "text": [
      "0    10\n",
      "1    20\n",
      "2    30\n",
      "3    40\n",
      "4    50\n",
      "dtype: int64\n",
      "\n",
      "2    30\n",
      "4    50\n",
      "dtype: int64\n"
     ]
    }
   ],
   "source": [
    "q=pd.Series([10,20,30,40,50])\n",
    "print(q)\n",
    "print()\n",
    "print(q[2:10:2])"
   ]
  },
  {
   "cell_type": "code",
   "execution_count": 22,
   "metadata": {},
   "outputs": [
    {
     "name": "stdout",
     "output_type": "stream",
     "text": [
      "<class 'numpy.float64'>\n",
      "<class 'pandas.core.series.Series'>\n"
     ]
    }
   ],
   "source": [
    "# result of operations as index\n",
    "print(type(s2['c']))\n",
    "print(type(s2['c' :]))"
   ]
  },
  {
   "cell_type": "code",
   "execution_count": 55,
   "metadata": {},
   "outputs": [
    {
     "name": "stdout",
     "output_type": "stream",
     "text": [
      "0    a\n",
      "1    b\n",
      "2    c\n",
      "3    d\n",
      "4    d\n",
      "5    d\n",
      "6    b\n",
      "7    c\n",
      "dtype: object\n",
      "\n",
      "d    3\n",
      "b    2\n",
      "c    2\n",
      "a    1\n",
      "dtype: int64\n",
      "\n",
      "a    1\n",
      "b    2\n",
      "c    2\n",
      "d    3\n",
      "dtype: int64\n"
     ]
    }
   ],
   "source": [
    "# frequency : value_counts\n",
    "\n",
    "s1=pd.Series(list('abcdddbc'))\n",
    "print(s1)\n",
    "print()\n",
    "print(s1.value_counts())\n",
    "print()\n",
    "\n",
    "r1=s1.value_counts()\n",
    "print(r1.sort_index(ascending=True)) # for ordering in ascending order"
   ]
  },
  {
   "cell_type": "markdown",
   "metadata": {},
   "source": [
    "## DataFrame"
   ]
  },
  {
   "cell_type": "code",
   "execution_count": 2,
   "metadata": {},
   "outputs": [
    {
     "name": "stdout",
     "output_type": "stream",
     "text": [
      "        Name  Age  Gender\n",
      "0     Gaurav  0.0     0.0\n",
      "1  Abhishek1  1.0     0.0\n",
      "2    Krishna  2.0     0.0\n",
      "3  Abhishek2  2.0     0.0\n",
      "4   Harshita  1.0     1.0\n",
      "5       Joey  2.0     1.0\n",
      "6     Shweta  3.0     1.0\n",
      "7       na-1  1.0     NaN\n",
      "8       na-2  NaN     0.0\n",
      "9        NaN  2.0     0.0\n",
      "\n",
      "         Name  Number\n",
      "0      Gaurav       1\n",
      "11   Abhiskek       2\n",
      "2     Krishna       3\n",
      "3   Abhishek2       4\n"
     ]
    }
   ],
   "source": [
    "# dataframe from dict or list of rows\n",
    "df1 = pd.DataFrame(\n",
    "    {\n",
    "        \"Name\":   [\"Gaurav\", \"Abhishek1\", \"Krishna\", \"Abhishek2\", \"Harshita\", \"Joey\", \"Shweta\", \"na-1\" , \"na-2\"  , np.nan],\n",
    "        \"Age\":    [ 0      , 1          , 2        , 2          , 1         , 2     , 3       , 1      ,  np.nan , 2     ],\n",
    "        \"Gender\": [ 0      , 0          , 0        , 0          , 1         , 1     , 1       , np.nan ,  0      , 0     ]\n",
    "    }\n",
    ")\n",
    "df2 = pd.DataFrame([(\"Gaurav\",1), (\"Abhiskek\",2), (\"Krishna\",3), (\"Abhishek2\",4)],\n",
    "                    index=[0,11,2,3], \n",
    "                    columns=[\"Name\", \"Number\"])\n",
    "print(df1)\n",
    "print()\n",
    "print(df2)"
   ]
  },
  {
   "cell_type": "code",
   "execution_count": 70,
   "metadata": {},
   "outputs": [
    {
     "name": "stdout",
     "output_type": "stream",
     "text": [
      "(10, 3)\n",
      "30\n",
      "Name       object\n",
      "Age       float64\n",
      "Gender    float64\n",
      "dtype: object\n",
      "RangeIndex(start=0, stop=10, step=1)\n",
      "Int64Index([0, 11, 2, 3], dtype='int64')\n",
      "Index(['Name', 'Age', 'Gender'], dtype='object')\n",
      "Index(['Name', 'Number'], dtype='object')\n",
      "<class 'pandas.core.frame.DataFrame'>\n",
      "             0          1        2          3         4     5       6     7  \\\n",
      "Name    Gaurav  Abhishek1  Krishna  Abhishek2  Harshita  Joey  Shweta  na-1   \n",
      "Age          0          1        2          2         1     2       3     1   \n",
      "Gender       0          0        0          0         1     1       1   NaN   \n",
      "\n",
      "           8    9  \n",
      "Name    na-2  NaN  \n",
      "Age      NaN    2  \n",
      "Gender     0    0  \n"
     ]
    }
   ],
   "source": [
    "# shape, size, dtype, index, columns, unique, T\n",
    "\n",
    "print(df1.shape)\n",
    "print(df1.size)\n",
    "print(df1.dtypes)\n",
    "print(df1.index)\n",
    "print(df2.index)\n",
    "print(df1.columns)\n",
    "print(df2.columns)\n",
    "print(type(df1))\n",
    "print(df1.T)"
   ]
  },
  {
   "cell_type": "code",
   "execution_count": 107,
   "metadata": {},
   "outputs": [
    {
     "name": "stdout",
     "output_type": "stream",
     "text": [
      "         Name  Num\n",
      "4      Gaurav    1\n",
      "12   Abhiskek    2\n",
      "2     Krishna    3\n",
      "3   Abhishek2    4\n",
      "\n",
      "None\n",
      "         NAME  NUMBER\n",
      "0      Gaurav       1\n",
      "11   Abhiskek       2\n",
      "2     Krishna       3\n",
      "3   Abhishek2       4\n"
     ]
    }
   ],
   "source": [
    "# Rename index and columns on df2.\n",
    "# Inplace vs normal operation\n",
    "t=df2.rename(columns={\"name\":\"Name\",\"number\":\"Num\"},index={0:4,11:12})\n",
    "print(t)\n",
    "print()\n",
    "#print(t[2])\n",
    "r=df2.rename(lambda x : x.upper(),axis=1,inplace=True)\n",
    "print(r)\n",
    "print(df2)"
   ]
  },
  {
   "cell_type": "code",
   "execution_count": 125,
   "metadata": {},
   "outputs": [
    {
     "name": "stdout",
     "output_type": "stream",
     "text": [
      "Index(['Name', 'Age', 'Gender'], dtype='object')\n",
      "\n",
      "0    0.0\n",
      "1    0.0\n",
      "2    0.0\n",
      "3    0.0\n",
      "4    1.0\n",
      "5    1.0\n",
      "6    1.0\n",
      "7    NaN\n",
      "8    0.0\n",
      "9    0.0\n",
      "Name: Gender, dtype: float64\n",
      "\n",
      "0        Gaurav\n",
      "11     Abhiskek\n",
      "2       Krishna\n",
      "3     Abhishek2\n",
      "Name: NAME, dtype: object\n"
     ]
    }
   ],
   "source": [
    "# Indexing columns directly and via index. \n",
    "print(df1.columns)\n",
    "print()\n",
    "print(df1.Gender)\n",
    "print()\n",
    "print(df2.NAME)"
   ]
  },
  {
   "cell_type": "code",
   "execution_count": 37,
   "metadata": {},
   "outputs": [
    {
     "name": "stdout",
     "output_type": "stream",
     "text": [
      "<class 'pandas.core.series.Series'>\n"
     ]
    }
   ],
   "source": [
    "# Series in a DataFrame\n",
    "\n",
    "print(type(df1.Name))"
   ]
  },
  {
   "cell_type": "code",
   "execution_count": 126,
   "metadata": {},
   "outputs": [
    {
     "name": "stdout",
     "output_type": "stream",
     "text": [
      "        Name  Age  Gender\n",
      "0     Gaurav  0.0     0.0\n",
      "1  Abhishek1  1.0     0.0\n",
      "     Name  Age  Gender\n",
      "5    Joey  2.0     1.0\n",
      "6  Shweta  3.0     1.0\n",
      "7    na-1  1.0     NaN\n",
      "8    na-2  NaN     0.0\n",
      "9     NaN  2.0     0.0\n"
     ]
    }
   ],
   "source": [
    "print(df1.head(2))\n",
    "print(df1.tail()) # default is 5 if argument is not given"
   ]
  },
  {
   "cell_type": "code",
   "execution_count": 15,
   "metadata": {},
   "outputs": [
    {
     "name": "stdout",
     "output_type": "stream",
     "text": [
      "Dataframe: \n",
      "         Name  Age  Gender\n",
      "0     Gaurav  0.0     0.0\n",
      "1  Abhishek1  1.0     0.0\n",
      "2    Krishna  2.0     0.0\n",
      "3  Abhishek2  2.0     0.0\n",
      "4   Harshita  1.0     1.0\n",
      "5       Joey  2.0     1.0\n",
      "6     Shweta  3.0     1.0\n",
      "7       na-1  1.0     NaN\n",
      "8       na-2  NaN     0.0\n",
      "9        NaN  2.0     0.0\n",
      "\n",
      "Top 5 rows: \n",
      "              Name      Age    Gender\n",
      "count           5  5.00000  5.000000\n",
      "unique          5      NaN       NaN\n",
      "top     Abhishek2      NaN       NaN\n",
      "freq            1      NaN       NaN\n",
      "mean          NaN  1.20000  0.200000\n",
      "std           NaN  0.83666  0.447214\n",
      "min           NaN  0.00000  0.000000\n",
      "25%           NaN  1.00000  0.000000\n",
      "50%           NaN  1.00000  0.000000\n",
      "75%           NaN  2.00000  0.000000\n",
      "max           NaN  2.00000  1.000000\n",
      "\n",
      "Bottom 5 rows: \n",
      "         Name       Age   Gender\n",
      "count      4  4.000000  4.00000\n",
      "unique     4       NaN      NaN\n",
      "top     Joey       NaN      NaN\n",
      "freq       1       NaN      NaN\n",
      "mean     NaN  2.000000  0.50000\n",
      "std      NaN  0.816497  0.57735\n",
      "min      NaN  1.000000  0.00000\n",
      "25%      NaN  1.750000  0.00000\n",
      "50%      NaN  2.000000  0.50000\n",
      "75%      NaN  2.250000  1.00000\n",
      "max      NaN  3.000000  1.00000\n",
      "\n",
      "All rows: \n",
      "         Name       Age    Gender\n",
      "count      9  9.000000  9.000000\n",
      "unique     9       NaN       NaN\n",
      "top     Joey       NaN       NaN\n",
      "freq       1       NaN       NaN\n",
      "mean     NaN  1.555556  0.333333\n",
      "std      NaN  0.881917  0.500000\n",
      "min      NaN  0.000000  0.000000\n",
      "25%      NaN  1.000000  0.000000\n",
      "50%      NaN  2.000000  0.000000\n",
      "75%      NaN  2.000000  1.000000\n",
      "max      NaN  3.000000  1.000000\n",
      "\n",
      "All object type elements: \n",
      "         Name\n",
      "count      9\n",
      "unique     9\n",
      "top     Joey\n",
      "freq       1\n",
      "Name      9\n",
      "Age       9\n",
      "Gender    9\n",
      "dtype: int64\n"
     ]
    }
   ],
   "source": [
    "# describe, top/bottom rows of data\n",
    "print('Dataframe: \\n',df1)\n",
    "print()\n",
    "print('Top 5 rows: \\n',df1.head().describe(include='all'))\n",
    "print()\n",
    "print('Bottom 5 rows: \\n',df1.tail().describe(include='all'))\n",
    "print()\n",
    "print('All rows: \\n',df1.describe(include='all'))\n",
    "print()\n",
    "print('All object type elements: \\n',df1.describe(include='object'))\n",
    "print(df1.count()) #gives a count of non nan values"
   ]
  },
  {
   "cell_type": "code",
   "execution_count": 80,
   "metadata": {},
   "outputs": [
    {
     "name": "stdout",
     "output_type": "stream",
     "text": [
      "        Name  Age  Gender\n",
      "0     Gaurav  0.0     0.0\n",
      "1  Abhishek1  1.0     0.0\n",
      "\n",
      "        Name  Age\n",
      "0     Gaurav  0.0\n",
      "1  Abhishek1  1.0\n",
      "2    Krishna  2.0\n",
      "3  Abhishek2  2.0\n",
      "\n",
      "   Age  Gender\n",
      "1  1.0     0.0\n",
      "4  1.0     1.0\n",
      "5  2.0     1.0\n"
     ]
    }
   ],
   "source": [
    "# indexing and slicing\n",
    "# loc, iloc [rows, cols]\n",
    "print(df1['Gender'])\n",
    "print()\n",
    "print(df1.loc[0:2])\n",
    "print()\n",
    "print(df1.loc[0:4:2])\n",
    "print()\n",
    "print(df1.loc[[0,2,5]])\n",
    "print()\n",
    "print(df1.loc[[2,3,7],['Name','Age']])\n",
    "print()\n",
    "print(df1.loc[::3,['Name','Age']])\n",
    "print()\n",
    "print(df1.iloc[::3,[0,2]])\n",
    "print()\n",
    "print(df1.iloc[0:2])\n",
    "print()\n",
    "print(df1.iloc[:4,[0,1]])\n",
    "print()\n",
    "print(df1.iloc[[1,4,5],[1,2]])"
   ]
  },
  {
   "cell_type": "code",
   "execution_count": 31,
   "metadata": {},
   "outputs": [
    {
     "name": "stdout",
     "output_type": "stream",
     "text": [
      "Dataframe:\n",
      "         Name  Age  Gender\n",
      "0     Gaurav  0.0     0.0\n",
      "1  Abhishek1  1.0     0.0\n",
      "2    Krishna  2.0     0.0\n",
      "3  Abhishek2  2.0     0.0\n",
      "4   Harshita  1.0     1.0\n",
      "5       Joey  2.0     1.0\n",
      "6     Shweta  3.0     1.0\n",
      "7       na-1  1.0     NaN\n",
      "8       na-2  NaN     0.0\n",
      "9        NaN  2.0     0.0\n",
      "\n",
      "Min :\n",
      " Age       0.0\n",
      "Gender    0.0\n",
      "dtype: float64\n",
      "\n",
      "max:\n",
      " Age       3.0\n",
      "Gender    1.0\n",
      "dtype: float64\n",
      "\n",
      "Sum:\n",
      " Age       14.0\n",
      "Gender     3.0\n",
      "dtype: float64\n",
      "\n",
      "Min from rows: \n",
      " 0    0.0\n",
      "1    0.0\n",
      "2    0.0\n",
      "3    0.0\n",
      "4    1.0\n",
      "5    1.0\n",
      "6    1.0\n",
      "7    1.0\n",
      "8    0.0\n",
      "9    0.0\n",
      "dtype: float64\n",
      "\n",
      "Max from rows: \n",
      " 0    0.0\n",
      "1    1.0\n",
      "2    2.0\n",
      "3    2.0\n",
      "4    1.0\n",
      "5    2.0\n",
      "6    3.0\n",
      "7    1.0\n",
      "8    0.0\n",
      "9    2.0\n",
      "dtype: float64\n",
      "\n",
      "Sum from rows: \n",
      " 0    0.0\n",
      "1    1.0\n",
      "2    2.0\n",
      "3    2.0\n",
      "4    2.0\n",
      "5    3.0\n",
      "6    4.0\n",
      "7    1.0\n",
      "8    0.0\n",
      "9    2.0\n",
      "dtype: float64\n",
      "\n",
      "Count from rows: \n",
      " 0    3\n",
      "1    3\n",
      "2    3\n",
      "3    3\n",
      "4    3\n",
      "5    3\n",
      "6    3\n",
      "7    2\n",
      "8    2\n",
      "9    2\n",
      "dtype: int64\n",
      "\n",
      "Count from columns: \n",
      " Name      9\n",
      "Age       9\n",
      "Gender    9\n",
      "dtype: int64\n",
      "\n",
      "0.0\n"
     ]
    }
   ],
   "source": [
    "# aggregate operations (with and without axis : row-1, col-0)\n",
    "# min, max, count, ...\n",
    "\n",
    "print('Dataframe:\\n',df1)\n",
    "print()\n",
    "print('Min :\\n',df1.min())#min from each column\n",
    "print()\n",
    "print('max:\\n',df1.max())\n",
    "print()\n",
    "print('Sum:\\n',df1.sum())\n",
    "print()\n",
    "print('Min from rows: \\n',df1.min(axis=1)) #gives minimum value from each row\n",
    "print()\n",
    "print('Max from rows: \\n',df1.max(axis=1))\n",
    "print()\n",
    "print('Sum from rows: \\n',df1.sum(axis=1))\n",
    "print()\n",
    "print('Count from rows: \\n',df1.count(axis=1))\n",
    "print()\n",
    "print('Count from columns: \\n',df1.count(axis=0))\n",
    "print()\n",
    "print(df1.Gender.min())"
   ]
  },
  {
   "cell_type": "code",
   "execution_count": 36,
   "metadata": {},
   "outputs": [
    {
     "name": "stdout",
     "output_type": "stream",
     "text": [
      "0     1.0\n",
      "1     NaN\n",
      "2     5.0\n",
      "3     6.0\n",
      "4     NaN\n",
      "11    NaN\n",
      "dtype: float64\n",
      "0    -1.0\n",
      "1     NaN\n",
      "2    -1.0\n",
      "3    -2.0\n",
      "4     NaN\n",
      "5     NaN\n",
      "6     NaN\n",
      "7     NaN\n",
      "8     NaN\n",
      "9     NaN\n",
      "11    NaN\n",
      "dtype: float64\n"
     ]
    }
   ],
   "source": [
    "# arithmetic operations\n",
    "print(df1.Age.head()+df2.Number)\n",
    "print(df1.Age-df2.Number)"
   ]
  },
  {
   "cell_type": "code",
   "execution_count": 48,
   "metadata": {},
   "outputs": [
    {
     "name": "stdout",
     "output_type": "stream",
     "text": [
      "        Name  Age  Gender\n",
      "0     Gaurav  0.0     0.0\n",
      "1  Abhishek1  1.0     0.0\n",
      "2    Krishna  2.0     0.0\n",
      "3  Abhishek2  2.0     0.0\n",
      "4   Harshita  1.0     1.0\n",
      "5       Joey  2.0     1.0\n",
      "6     Shweta  3.0     1.0\n"
     ]
    }
   ],
   "source": [
    "# Na Values: isna, fillna, dropna\n",
    "print(df1.isna())\n",
    "print(df1)\n",
    "#print(dft.fillna(0))\n",
    "print()\n",
    "print(df1.fillna(method='bfill'))\n",
    "print()\n",
    "r=df1.fillna(method='ffill',inplace=True)\n",
    "print(df1)\n",
    "print()\n",
    "print(df1.dropna())"
   ]
  },
  {
   "cell_type": "code",
   "execution_count": 53,
   "metadata": {},
   "outputs": [
    {
     "name": "stdout",
     "output_type": "stream",
     "text": [
      "0    True\n",
      "1    True\n",
      "2    True\n",
      "3    True\n",
      "4    True\n",
      "5    True\n",
      "6    True\n",
      "7    True\n",
      "8    True\n",
      "9    True\n",
      "dtype: bool\n",
      "\n",
      "0    False\n",
      "1    False\n",
      "2    False\n",
      "3    False\n",
      "4     True\n",
      "5     True\n",
      "6     True\n",
      "7     True\n",
      "8    False\n",
      "9    False\n",
      "dtype: bool\n",
      "\n",
      "Name       True\n",
      "Age       False\n",
      "Gender    False\n",
      "dtype: bool\n",
      "\n",
      "Name      True\n",
      "Age       True\n",
      "Gender    True\n",
      "dtype: bool\n"
     ]
    }
   ],
   "source": [
    "# any, all\n",
    "print(df1.any(axis=1))\n",
    "print()\n",
    "print(df1.all(axis=1))\n",
    "print()\n",
    "print(df1.all())\n",
    "print()\n",
    "print(df1.any(axis=0))"
   ]
  },
  {
   "cell_type": "code",
   "execution_count": 60,
   "metadata": {},
   "outputs": [
    {
     "name": "stdout",
     "output_type": "stream",
     "text": [
      "        Name  Age  Gender\n",
      "0     Gaurav  0.0     0.0\n",
      "1  Abhishek1  1.0     0.0\n",
      "4   Harshita  1.0     1.0\n",
      "7       na-1  1.0     NaN\n",
      "2    Krishna  2.0     0.0\n",
      "3  Abhishek2  2.0     0.0\n",
      "5       Joey  2.0     1.0\n",
      "9        NaN  2.0     0.0\n",
      "6     Shweta  3.0     1.0\n",
      "8       na-2  NaN     0.0\n",
      "\n",
      "        Name  Age  Gender\n",
      "8       na-2  NaN     0.0\n",
      "7       na-1  1.0     NaN\n",
      "6     Shweta  3.0     1.0\n",
      "2    Krishna  2.0     0.0\n",
      "5       Joey  2.0     1.0\n",
      "4   Harshita  1.0     1.0\n",
      "0     Gaurav  0.0     0.0\n",
      "3  Abhishek2  2.0     0.0\n",
      "1  Abhishek1  1.0     0.0\n",
      "9        NaN  2.0     0.0\n"
     ]
    }
   ],
   "source": [
    "# ordering data, sort_values\n",
    "print(df1.sort_values(by='Age',axis=0,ascending=True))\n",
    "print()\n",
    "print(df1.sort_values(by='Name',ascending=False))"
   ]
  },
  {
   "cell_type": "code",
   "execution_count": 101,
   "metadata": {},
   "outputs": [
    {
     "name": "stdout",
     "output_type": "stream",
     "text": [
      "    A   B   C   D\n",
      "0  10  16  17  18\n",
      "1  18  12  12  11\n",
      "2  14  12  18  15\n",
      "3  13  12  15  13\n",
      "4  18  17  10  15\n",
      "\n",
      "    A   B   C   D\n",
      "0  20  32  34  36\n",
      "1  36  24  24  22\n",
      "2  28  24  36  30\n",
      "3  26  24  30  26\n",
      "4  36  34  20  30\n",
      "\n",
      "0    20\n",
      "1    36\n",
      "2    28\n",
      "3    26\n",
      "4    36\n",
      "Name: A, dtype: int64\n",
      "A    36\n",
      "B    34\n",
      "C    20\n",
      "D    30\n",
      "Name: 4, dtype: int64\n"
     ]
    }
   ],
   "source": [
    "# row / column wise operation: apply\n",
    "tmp = pd.DataFrame(np.random.randint(10,20,20).reshape(5,4),columns=['A','B','C','D'])\n",
    "print(tmp)\n",
    "print()\n",
    "print(tmp.apply(lambda x:x*2))\n",
    "print()\n",
    "print(tmp.A.apply(lambda x:x*2))\n",
    "print(tmp.loc[4].apply(lambda x:x*2))\n",
    "\n"
   ]
  },
  {
   "cell_type": "code",
   "execution_count": 121,
   "metadata": {},
   "outputs": [
    {
     "name": "stdout",
     "output_type": "stream",
     "text": [
      "      A    B\n",
      "0   bat  abc\n",
      "1   foo  bar\n",
      "2  bait  xyz\n",
      "         A        B\n",
      "0  newword      abc\n",
      "1      foo  newword\n",
      "2  newword      xyz\n"
     ]
    }
   ],
   "source": [
    "# str submodule (replace etc)\n",
    "tmp = pd.DataFrame(np.random.randint(10,20,20).reshape(5,4),columns=['A','B','C','D'])\n",
    "print(tmp)\n",
    "print()\n",
    "print(tmp.replace(to_replace=11,value=np.nan))\n",
    "print()\n",
    "df = pd.DataFrame({'A': ['bat', 'foo', 'bait'],\n",
    "                   'B': ['abc', 'bar', 'xyz']})\n",
    "print(df)\n",
    "print(df.replace(to_replace=r'^b.*',value='newword',regex=True))"
   ]
  },
  {
   "cell_type": "code",
   "execution_count": 2,
   "metadata": {},
   "outputs": [
    {
     "ename": "NameError",
     "evalue": "name 'pd' is not defined",
     "output_type": "error",
     "traceback": [
      "\u001b[1;31m---------------------------------------------------------------------------\u001b[0m",
      "\u001b[1;31mNameError\u001b[0m                                 Traceback (most recent call last)",
      "\u001b[1;32m<ipython-input-2-8bd70306f6d8>\u001b[0m in \u001b[0;36m<module>\u001b[1;34m\u001b[0m\n\u001b[0;32m      1\u001b[0m \u001b[1;31m# load and save data\u001b[0m\u001b[1;33m\u001b[0m\u001b[1;33m\u001b[0m\u001b[1;33m\u001b[0m\u001b[0m\n\u001b[1;32m----> 2\u001b[1;33m \u001b[0mload\u001b[0m\u001b[1;33m=\u001b[0m\u001b[0mpd\u001b[0m\u001b[1;33m.\u001b[0m\u001b[0mread_csv\u001b[0m\u001b[1;33m(\u001b[0m\u001b[1;34m'titanic_filtered.csv'\u001b[0m\u001b[1;33m,\u001b[0m\u001b[0mindex\u001b[0m\u001b[1;33m=\u001b[0m\u001b[0mUnnamed\u001b[0m\u001b[1;33m)\u001b[0m\u001b[1;33m\u001b[0m\u001b[1;33m\u001b[0m\u001b[0m\n\u001b[0m\u001b[0;32m      3\u001b[0m \u001b[1;31m# print(load.tail(10))\u001b[0m\u001b[1;33m\u001b[0m\u001b[1;33m\u001b[0m\u001b[1;33m\u001b[0m\u001b[0m\n\u001b[0;32m      4\u001b[0m \u001b[0mprint\u001b[0m\u001b[1;33m(\u001b[0m\u001b[0mload\u001b[0m\u001b[1;33m)\u001b[0m\u001b[1;33m\u001b[0m\u001b[1;33m\u001b[0m\u001b[0m\n",
      "\u001b[1;31mNameError\u001b[0m: name 'pd' is not defined"
     ]
    }
   ],
   "source": [
    "# load and save data\n",
    "load=pd.read_csv('titanic_filtered.csv')\n",
    "# print(load.tail(10))\n",
    "print(load)"
   ]
  },
  {
   "cell_type": "code",
   "execution_count": 7,
   "metadata": {},
   "outputs": [
    {
     "name": "stdout",
     "output_type": "stream",
     "text": [
      "{0.0: Int64Index([0], dtype='int64'), 1.0: Int64Index([1, 4, 7], dtype='int64'), 2.0: Int64Index([2, 3, 5, 9], dtype='int64'), 3.0: Int64Index([6], dtype='int64')}\n",
      "     Gender\n",
      "Age        \n",
      "0.0    0.00\n",
      "1.0    0.50\n",
      "2.0    0.25\n",
      "3.0    1.00\n"
     ]
    }
   ],
   "source": [
    "# groups: groupby\n",
    "grp=df1.groupby(by=['Age'])\n",
    "print(grp.groups)\n",
    "# grp=df1.groupby(by=['Age','Gender'])\n",
    "# print(grp.groups)\n",
    "#print(grp.ngroup())\n",
    "print(grp.mean())"
   ]
  },
  {
   "cell_type": "code",
   "execution_count": 10,
   "metadata": {},
   "outputs": [
    {
     "name": "stdout",
     "output_type": "stream",
     "text": [
      "     Gender\n",
      "Age        \n",
      "0.0    0.00\n",
      "1.0    0.50\n",
      "2.0    0.25\n",
      "3.0    1.00\n",
      "     Gender\n",
      "Age        \n",
      "0.0     0.0\n",
      "1.0     1.0\n",
      "2.0     1.0\n",
      "3.0     1.0\n",
      "     Name  Gender\n",
      "Age              \n",
      "0.0     1       1\n",
      "1.0     3       2\n",
      "2.0     3       4\n",
      "3.0     1       1\n",
      "{0.0: Int64Index([0], dtype='int64'), 1.0: Int64Index([1, 4, 7], dtype='int64'), 2.0: Int64Index([2, 3, 5, 9], dtype='int64'), 3.0: Int64Index([6], dtype='int64')}\n"
     ]
    }
   ],
   "source": [
    "# groups and aggregates\n",
    "print(grp.mean())\n",
    "print(grp.sum())\n",
    "print(grp.count())\n"
   ]
  },
  {
   "cell_type": "code",
   "execution_count": null,
   "metadata": {},
   "outputs": [],
   "source": []
  }
 ],
 "metadata": {
  "kernelspec": {
   "display_name": "Python 3",
   "language": "python",
   "name": "python3"
  },
  "language_info": {
   "codemirror_mode": {
    "name": "ipython",
    "version": 3
   },
   "file_extension": ".py",
   "mimetype": "text/x-python",
   "name": "python",
   "nbconvert_exporter": "python",
   "pygments_lexer": "ipython3",
   "version": "3.7.6"
  }
 },
 "nbformat": 4,
 "nbformat_minor": 2
}
