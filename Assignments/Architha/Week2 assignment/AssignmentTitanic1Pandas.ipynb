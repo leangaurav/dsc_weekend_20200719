{
 "cells": [
  {
   "cell_type": "markdown",
   "metadata": {},
   "source": [
    "|Variable|Definition|Key|\n",
    "|---|---|---|\n",
    "|survival|Survival|0 = No, 1 = Yes|\n",
    "|pclass|Ticket class|1 = 1st, 2 = 2nd, 3 = 3rd|\n",
    "|gender|gender ||\n",
    "|Age |Age in years| |\n",
    "|sibsp |number of siblings / spouses aboard|\t|\n",
    "|parch |number of parents / children aboard| |\n",
    "|ticket|Ticket number ||\n",
    "|fare | fare| \t|\n",
    "|cabin |Cabin number|\t|\n",
    "|embarked|Port of Embarkation|C = Cherbourg, Q = Queenstown, S = Southampton|\n",
    "|boat | Lifeboat||\n",
    "|body | Body Identification Number||\n",
    "|home.dest| Home/destination||"
   ]
  },
  {
   "cell_type": "markdown",
   "metadata": {},
   "source": []
  },
  {
   "cell_type": "markdown",
   "metadata": {},
   "source": [
    "- Read data and describe it\n",
    "- Find columns with missingdata\n",
    "- Print shape of dataset\n",
    "- drop columns with more than 25% missing data\n",
    "- drop columns having independent values(which do not affect the survival rate).\n",
    "\n",
    "\n",
    "- check data types of all columns\n",
    "- convert price to numeric\n",
    "- find columns still having missing/na values and also count of missing data\n",
    "- fill na with mean for fare and age column column.\n",
    "- drop na values for embarked column.\n",
    "- dump the dataframe to a csv file 'titanic_filtered.csv'.\n",
    "\n",
    "\n",
    "- for surviced column replace 0 with D and 1 with A\n",
    "- find the frequency of different values in survived column\n",
    "- group by gender and survived and see the counts in each category\n",
    "- find different pclass and no of people in each class\n",
    "\n",
    "- find top 5 people with highest values of age. Count no of male and females in the top 5\n",
    "- find max age male and female who survived\n",
    "- get average age by gender\n",
    "- get average age by people survived vs not-survived"
   ]
  },
  {
   "cell_type": "code",
   "execution_count": 3,
   "metadata": {},
   "outputs": [],
   "source": [
    "import numpy as np\n",
    "import pandas as pd"
   ]
  },
  {
   "cell_type": "code",
   "execution_count": 4,
   "metadata": {},
   "outputs": [
    {
     "name": "stdout",
     "output_type": "stream",
     "text": [
      "             pclass     survived                  name gender          age  \\\n",
      "count   1309.000000  1309.000000                  1309   1309  1046.000000   \n",
      "unique          NaN          NaN                  1307      2          NaN   \n",
      "top             NaN          NaN  Connolly, Miss. Kate   male          NaN   \n",
      "freq            NaN          NaN                     2    843          NaN   \n",
      "mean       2.294882     0.381971                   NaN    NaN    29.881135   \n",
      "std        0.837836     0.486055                   NaN    NaN    14.413500   \n",
      "min        1.000000     0.000000                   NaN    NaN     0.166700   \n",
      "25%        2.000000     0.000000                   NaN    NaN    21.000000   \n",
      "50%        3.000000     0.000000                   NaN    NaN    28.000000   \n",
      "75%        3.000000     1.000000                   NaN    NaN    39.000000   \n",
      "max        3.000000     1.000000                   NaN    NaN    80.000000   \n",
      "\n",
      "              sibsp        parch    ticket    fare        cabin embarked boat  \\\n",
      "count   1309.000000  1309.000000      1309    1308          295     1307  486   \n",
      "unique          NaN          NaN       929     263          186        3   27   \n",
      "top             NaN          NaN  CA. 2343  $8.05   C23 C25 C27        S   13   \n",
      "freq            NaN          NaN        11      60            6      914   39   \n",
      "mean       0.498854     0.385027       NaN     NaN          NaN      NaN  NaN   \n",
      "std        1.041658     0.865560       NaN     NaN          NaN      NaN  NaN   \n",
      "min        0.000000     0.000000       NaN     NaN          NaN      NaN  NaN   \n",
      "25%        0.000000     0.000000       NaN     NaN          NaN      NaN  NaN   \n",
      "50%        0.000000     0.000000       NaN     NaN          NaN      NaN  NaN   \n",
      "75%        1.000000     0.000000       NaN     NaN          NaN      NaN  NaN   \n",
      "max        8.000000     9.000000       NaN     NaN          NaN      NaN  NaN   \n",
      "\n",
      "              body     home.dest  \n",
      "count   121.000000           745  \n",
      "unique         NaN           369  \n",
      "top            NaN  New York, NY  \n",
      "freq           NaN            64  \n",
      "mean    160.809917           NaN  \n",
      "std      97.696922           NaN  \n",
      "min       1.000000           NaN  \n",
      "25%      72.000000           NaN  \n",
      "50%     155.000000           NaN  \n",
      "75%     256.000000           NaN  \n",
      "max     328.000000           NaN  \n"
     ]
    }
   ],
   "source": [
    "#Read data and describe it\n",
    "df=pd.read_csv('titanic_dataset.csv',usecols=range(1,15))\n",
    "#print(df)\n",
    "print(df.describe(include='all'))"
   ]
  },
  {
   "cell_type": "code",
   "execution_count": 78,
   "metadata": {},
   "outputs": [
    {
     "name": "stdout",
     "output_type": "stream",
     "text": [
      "Index(['age', 'fare', 'cabin', 'embarked', 'boat', 'body', 'home.dest'], dtype='object')\n"
     ]
    }
   ],
   "source": [
    "#Find columns with missingdata\n",
    "print(df.columns[df.isna().any()])"
   ]
  },
  {
   "cell_type": "code",
   "execution_count": 28,
   "metadata": {},
   "outputs": [
    {
     "name": "stdout",
     "output_type": "stream",
     "text": [
      "(1309, 14)\n"
     ]
    }
   ],
   "source": [
    "#Print shape of dataset\n",
    "print(df.shape)"
   ]
  },
  {
   "cell_type": "code",
   "execution_count": 47,
   "metadata": {},
   "outputs": [
    {
     "name": "stdout",
     "output_type": "stream",
     "text": [
      "pclass       0.000000\n",
      "survived     0.000000\n",
      "name         0.000000\n",
      "gender       0.000000\n",
      "age          0.200917\n",
      "sibsp        0.000000\n",
      "parch        0.000000\n",
      "ticket       0.000000\n",
      "fare         0.000764\n",
      "cabin        0.774637\n",
      "embarked     0.001528\n",
      "boat         0.628724\n",
      "body         0.907563\n",
      "home.dest    0.430863\n",
      "dtype: float64\n",
      "        cabin boat   body                        home.dest\n",
      "0          B5    2    NaN                     St Louis, MO\n",
      "1     C22 C26   11    NaN  Montreal, PQ / Chesterville, ON\n",
      "2     C22 C26  NaN    NaN  Montreal, PQ / Chesterville, ON\n",
      "3     C22 C26  NaN  135.0  Montreal, PQ / Chesterville, ON\n",
      "4     C22 C26  NaN    NaN  Montreal, PQ / Chesterville, ON\n",
      "...       ...  ...    ...                              ...\n",
      "1304      NaN  NaN  328.0                              NaN\n",
      "1305      NaN  NaN    NaN                              NaN\n",
      "1306      NaN  NaN  304.0                              NaN\n",
      "1307      NaN  NaN    NaN                              NaN\n",
      "1308      NaN  NaN    NaN                              NaN\n",
      "\n",
      "[1309 rows x 4 columns]\n"
     ]
    }
   ],
   "source": [
    "#drop columns with more than 25% missing data\n",
    "#print(df.isna())\n",
    "print(df.isna().mean())\n",
    "df=df.loc[:,df.isna().mean()>0.25]\n",
    "print(df)"
   ]
  },
  {
   "cell_type": "code",
   "execution_count": 5,
   "metadata": {},
   "outputs": [
    {
     "name": "stdout",
     "output_type": "stream",
     "text": [
      "      pclass  survived  gender      age  sibsp  parch  ticket      fare  \\\n",
      "0          1         1  female  29.0000      0      0   24160  $211.34    \n",
      "1          1         1    male   0.9167      1      2  113781  $151.55    \n",
      "2          1         0  female   2.0000      1      2  113781  $151.55    \n",
      "3          1         0    male  30.0000      1      2  113781  $151.55    \n",
      "4          1         0  female  25.0000      1      2  113781  $151.55    \n",
      "...      ...       ...     ...      ...    ...    ...     ...       ...   \n",
      "1304       3         0  female  14.5000      1      0    2665   $14.45    \n",
      "1305       3         0  female      NaN      1      0    2665   $14.45    \n",
      "1306       3         0    male  26.5000      0      0    2656    $7.23    \n",
      "1307       3         0    male  27.0000      0      0    2670    $7.23    \n",
      "1308       3         0    male  29.0000      0      0  315082    $7.88    \n",
      "\n",
      "        cabin embarked boat   body                        home.dest  \n",
      "0          B5        S    2    NaN                     St Louis, MO  \n",
      "1     C22 C26        S   11    NaN  Montreal, PQ / Chesterville, ON  \n",
      "2     C22 C26        S  NaN    NaN  Montreal, PQ / Chesterville, ON  \n",
      "3     C22 C26        S  NaN  135.0  Montreal, PQ / Chesterville, ON  \n",
      "4     C22 C26        S  NaN    NaN  Montreal, PQ / Chesterville, ON  \n",
      "...       ...      ...  ...    ...                              ...  \n",
      "1304      NaN        C  NaN  328.0                              NaN  \n",
      "1305      NaN        C  NaN    NaN                              NaN  \n",
      "1306      NaN        C  NaN  304.0                              NaN  \n",
      "1307      NaN        C  NaN    NaN                              NaN  \n",
      "1308      NaN        S  NaN    NaN                              NaN  \n",
      "\n",
      "[1309 rows x 13 columns]\n"
     ]
    }
   ],
   "source": [
    "#drop columns having independent values(which do not affect the survival rate)\n",
    "\n",
    "print(df.drop(columns=['name']))"
   ]
  },
  {
   "cell_type": "code",
   "execution_count": 49,
   "metadata": {},
   "outputs": [
    {
     "name": "stdout",
     "output_type": "stream",
     "text": [
      "pclass         int64\n",
      "survived       int64\n",
      "name          object\n",
      "gender        object\n",
      "age          float64\n",
      "sibsp          int64\n",
      "parch          int64\n",
      "ticket        object\n",
      "fare          object\n",
      "cabin         object\n",
      "embarked      object\n",
      "boat          object\n",
      "body         float64\n",
      "home.dest     object\n",
      "dtype: object\n"
     ]
    }
   ],
   "source": [
    "#check data types of all columns\n",
    "print(df.dtypes)"
   ]
  },
  {
   "cell_type": "code",
   "execution_count": 153,
   "metadata": {},
   "outputs": [
    {
     "name": "stdout",
     "output_type": "stream",
     "text": [
      "0       211.34\n",
      "1       151.55\n",
      "2       151.55\n",
      "3       151.55\n",
      "4       151.55\n",
      "         ...  \n",
      "1304     14.45\n",
      "1305     14.45\n",
      "1306      7.23\n",
      "1307      7.23\n",
      "1308      7.88\n",
      "Name: fare, Length: 1309, dtype: float64\n"
     ]
    }
   ],
   "source": [
    "#convert price to numeric\n",
    "\n",
    "#tmp=df['fare'].str.replace('$','')\n",
    "tmp=df.fare.replace('\\$','',regex=True)\n",
    "print(tmp.apply(pd.to_numeric))"
   ]
  },
  {
   "cell_type": "code",
   "execution_count": 77,
   "metadata": {},
   "outputs": [
    {
     "name": "stdout",
     "output_type": "stream",
     "text": [
      "Index(['age', 'fare', 'cabin', 'embarked', 'boat', 'body', 'home.dest'], dtype='object')\n",
      "\n",
      "3855\n"
     ]
    }
   ],
   "source": [
    "#find columns still having missing/na values and also count of missing data\n",
    "\n",
    "print(df.columns[df.isna().any()])\n",
    "print()\n",
    "print(df.isna().sum().sum())"
   ]
  },
  {
   "cell_type": "code",
   "execution_count": 167,
   "metadata": {},
   "outputs": [
    {
     "name": "stdout",
     "output_type": "stream",
     "text": [
      "0       29.000000\n",
      "1        0.916700\n",
      "2        2.000000\n",
      "3       30.000000\n",
      "4       25.000000\n",
      "          ...    \n",
      "1304    14.500000\n",
      "1305    29.881135\n",
      "1306    26.500000\n",
      "1307    27.000000\n",
      "1308    29.000000\n",
      "Name: age, Length: 1309, dtype: float64\n",
      "0       211.34\n",
      "1       151.55\n",
      "2       151.55\n",
      "3       151.55\n",
      "4       151.55\n",
      "         ...  \n",
      "1304     14.45\n",
      "1305     14.45\n",
      "1306      7.23\n",
      "1307      7.23\n",
      "1308      7.88\n",
      "Name: fare, Length: 1309, dtype: float64\n"
     ]
    }
   ],
   "source": [
    "#fill na with mean for fare and age column column.\n",
    "#print(df.mean())\n",
    "\n",
    "print(df.age.fillna(df.age.mean()))\n",
    "tmp=df.fare.str.replace('$','')\n",
    "tmp=tmp.apply(pd.to_numeric)\n",
    "print(tmp.fillna(tmp.mean()))"
   ]
  },
  {
   "cell_type": "code",
   "execution_count": 94,
   "metadata": {},
   "outputs": [
    {
     "name": "stdout",
     "output_type": "stream",
     "text": [
      "0       S\n",
      "1       S\n",
      "2       S\n",
      "3       S\n",
      "4       S\n",
      "       ..\n",
      "1304    C\n",
      "1305    C\n",
      "1306    C\n",
      "1307    C\n",
      "1308    S\n",
      "Name: embarked, Length: 1307, dtype: object\n"
     ]
    }
   ],
   "source": [
    "#drop na values for embarked column\n",
    "print(df.embarked.dropna(how='all'))"
   ]
  },
  {
   "cell_type": "code",
   "execution_count": 95,
   "metadata": {},
   "outputs": [],
   "source": [
    "#dump the dataframe to a csv file 'titanic_filtered.csv'.\n",
    "df.to_csv('titanic_filtered.csv')"
   ]
  },
  {
   "cell_type": "code",
   "execution_count": 103,
   "metadata": {},
   "outputs": [
    {
     "name": "stdout",
     "output_type": "stream",
     "text": [
      "0       A\n",
      "1       A\n",
      "2       D\n",
      "3       D\n",
      "4       D\n",
      "       ..\n",
      "1304    D\n",
      "1305    D\n",
      "1306    D\n",
      "1307    D\n",
      "1308    D\n",
      "Name: survived, Length: 1309, dtype: object\n"
     ]
    }
   ],
   "source": [
    "#for survived column replace 0 with D and 1 with A\n",
    "\n",
    "tmp=df.survived.replace(to_replace=[0,1],value=['D','A'])\n",
    "print(tmp)"
   ]
  },
  {
   "cell_type": "code",
   "execution_count": 113,
   "metadata": {},
   "outputs": [
    {
     "name": "stdout",
     "output_type": "stream",
     "text": [
      "survived\n",
      "0    809\n",
      "1    500\n",
      "Name: survived, dtype: int64\n"
     ]
    }
   ],
   "source": [
    "#find the frequency of different values in survived column\n",
    "grp=df.groupby(by='survived')\n",
    "print(grp.survived.count())"
   ]
  },
  {
   "cell_type": "code",
   "execution_count": 114,
   "metadata": {},
   "outputs": [
    {
     "name": "stdout",
     "output_type": "stream",
     "text": [
      "                 pclass  name  age  sibsp  parch  ticket  fare  cabin  \\\n",
      "gender survived                                                         \n",
      "female 0            127   127   96    127    127     127   127      8   \n",
      "       1            339   339  292    339    339     339   339    133   \n",
      "male   0            682   682  523    682    682     682   681     94   \n",
      "       1            161   161  135    161    161     161   161     60   \n",
      "\n",
      "                 embarked  boat  body  home.dest  \n",
      "gender survived                                   \n",
      "female 0              127     1     8         47  \n",
      "       1              337   318     0        241  \n",
      "male   0              682     8   113        351  \n",
      "       1              161   159     0        106  \n"
     ]
    }
   ],
   "source": [
    "#group by gender and survived and see the counts in each category\n",
    "\n",
    "grp=df.groupby(by=['gender','survived'])\n",
    "print(grp.count())"
   ]
  },
  {
   "cell_type": "code",
   "execution_count": 115,
   "metadata": {},
   "outputs": [
    {
     "name": "stdout",
     "output_type": "stream",
     "text": [
      "pclass\n",
      "1    323\n",
      "2    277\n",
      "3    709\n",
      "Name: name, dtype: int64\n"
     ]
    }
   ],
   "source": [
    "#find different pclass and no of people in each class\n",
    "grp=df.groupby(by='pclass')\n",
    "print(grp.name.count())"
   ]
  },
  {
   "cell_type": "code",
   "execution_count": 122,
   "metadata": {},
   "outputs": [
    {
     "name": "stdout",
     "output_type": "stream",
     "text": [
      "gender\n",
      "female    1\n",
      "male      4\n",
      "Name: name, dtype: int64\n"
     ]
    }
   ],
   "source": [
    "#find top 5 people with highest values of age. Count no of male and females in the top 5\n",
    "\n",
    "o=df.sort_values(by='age',ascending=False)\n",
    "df1=o.head()\n",
    "#print(df1)\n",
    "grp=df1.groupby(by='gender')\n",
    "print(grp.name.count())"
   ]
  },
  {
   "cell_type": "code",
   "execution_count": 140,
   "metadata": {},
   "outputs": [
    {
     "name": "stdout",
     "output_type": "stream",
     "text": [
      "gender\n",
      "female    76.0\n",
      "male      80.0\n",
      "Name: age, dtype: float64\n"
     ]
    }
   ],
   "source": [
    "#find max age male and female who survived\n",
    "\n",
    "o=df.sort_values(by=['age','gender','survived'],ascending=False)\n",
    "gr=o.groupby(by='gender')\n",
    "print(gr.age.max())"
   ]
  },
  {
   "cell_type": "code",
   "execution_count": 141,
   "metadata": {},
   "outputs": [
    {
     "name": "stdout",
     "output_type": "stream",
     "text": [
      "gender\n",
      "female    28.687071\n",
      "male      30.585233\n",
      "Name: age, dtype: float64\n"
     ]
    }
   ],
   "source": [
    "#get average age by gender\n",
    "grp=df.groupby(by='gender')\n",
    "print(grp.age.mean())"
   ]
  },
  {
   "cell_type": "code",
   "execution_count": 142,
   "metadata": {},
   "outputs": [
    {
     "name": "stdout",
     "output_type": "stream",
     "text": [
      "survived\n",
      "0    30.545369\n",
      "1    28.918228\n",
      "Name: age, dtype: float64\n"
     ]
    }
   ],
   "source": [
    "#get average age by people survived vs not-survived\n",
    "grp=df.groupby(by='survived')\n",
    "print(grp.age.mean())"
   ]
  },
  {
   "cell_type": "code",
   "execution_count": null,
   "metadata": {},
   "outputs": [],
   "source": []
  }
 ],
 "metadata": {
  "kernelspec": {
   "display_name": "Python 3",
   "language": "python",
   "name": "python3"
  },
  "language_info": {
   "codemirror_mode": {
    "name": "ipython",
    "version": 3
   },
   "file_extension": ".py",
   "mimetype": "text/x-python",
   "name": "python",
   "nbconvert_exporter": "python",
   "pygments_lexer": "ipython3",
   "version": "3.7.6"
  }
 },
 "nbformat": 4,
 "nbformat_minor": 2
}
