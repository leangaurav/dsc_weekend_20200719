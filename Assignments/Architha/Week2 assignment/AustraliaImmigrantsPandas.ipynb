{
 "cells": [
  {
   "cell_type": "markdown",
   "metadata": {},
   "source": [
    "- Read sheet \"Australia by Residence\" from Australia.xlsx\n",
    "- Ignore the first 20 rows.\n",
    "- List all Column and Row indexes(Print their names)\n",
    "\n",
    "Dataset Analysis\n",
    "- Describe the dataset\n",
    "- Use values and index attributes on both Row and Column Indexes\n",
    "- Check Shape, Datatypes and other attributes and observe the datatype of each columns' data\n",
    "  \n",
    "\n",
    "Drop\n",
    "- Delete all Data where the Type = \"Emigrants\" or Type is not \"Immigrants\" (Row Deletion)\n",
    "- Find columns for which more than 50% data is missing and drop them (Column Deletion)\n",
    "- Drop Unnessary Columns: Type, Coverage, Area, Reg, Dev (Column deletion)\n",
    "    Your columns should now look like \"OdName,AreaName,RegName,DevName,1980 ... 2008\"\n",
    "\n",
    "Rename\n",
    "- Rename columns :OdName -> Country; RegName -> Region\n",
    "- Convert Column Names with Int type to Strings to avoid index errors with string indexing \"1980, 1981 etc.\" => \" '1980', '1981' ... \" (Use rename)\n",
    "- Find Total number of immigrants for all years, and create a new column Total in data Frame\n",
    "\n",
    "Head Tail Sort\n",
    "- Sort Data by the new column Total in descending order and analyze the fist few rows. (get first few rows using head)\n",
    "    - find something weird in the dataset ? Delete that row 'world'\n",
    "- Analyze last few rows also in the sorted result (Don't sort inplace)\n",
    "\n",
    "- Check if these have all unique values or not:\n",
    "    - countries\n",
    "    - continents (AreaName)\n",
    "    - country continent pairs\n",
    "\n",
    "\n",
    "- Find countries for which no of immigrants for all years is 0\n",
    "- Find count of above countries\n",
    "- Find countries for which no of immigrants is 0 for any year\n",
    "\n",
    "Save Data\n",
    "- Drop the row where AreaName is 'World'\n",
    "- Save the dataset to a new file AustraliaFiltered.xlsx"
   ]
  },
  {
   "cell_type": "code",
   "execution_count": 1,
   "metadata": {},
   "outputs": [
    {
     "name": "stdout",
     "output_type": "stream",
     "text": [
      "           Type Coverage          OdName  AREA AreaName   REG  \\\n",
      "0     Emigrants     Both     Afghanistan   935     Asia  5501   \n",
      "1     Emigrants     Both         Albania   908   Europe   925   \n",
      "2     Emigrants     Both         Algeria   903   Africa   912   \n",
      "3     Emigrants     Both  American Samoa   909  Oceania   957   \n",
      "4     Emigrants     Both         Andorra   908   Europe   925   \n",
      "..          ...      ...             ...   ...      ...   ...   \n",
      "443  Immigrants     Both           Yemen   935     Asia   922   \n",
      "444  Immigrants     Both          Zambia   903   Africa   910   \n",
      "445  Immigrants     Both        Zimbabwe   903   Africa   910   \n",
      "446  Immigrants     Both         Unknown   999    World   999   \n",
      "447  Immigrants     Both           Total   999    World   999   \n",
      "\n",
      "             RegName  DEV             DevName    1980  ...    2004    2005  \\\n",
      "0      Southern Asia  902  Developing regions       0  ...      80     120   \n",
      "1    Southern Europe  901   Developed regions       0  ...      30      40   \n",
      "2    Northern Africa  902  Developing regions      20  ...      20      20   \n",
      "3          Polynesia  902  Developing regions      10  ...       0       0   \n",
      "4    Southern Europe  901   Developed regions       0  ...       0       0   \n",
      "..               ...  ...                 ...     ...  ...     ...     ...   \n",
      "443     Western Asia  902  Developing regions      10  ...      40      20   \n",
      "444   Eastern Africa  902  Developing regions     150  ...     370     240   \n",
      "445   Eastern Africa  902  Developing regions     630  ...    1790    1560   \n",
      "446            World  999               World    4060  ...    1650    1800   \n",
      "447            World  999               World  184290  ...  350990  363470   \n",
      "\n",
      "       2006    2007    2008  2009  2010  2011  2012  2013  \n",
      "0        70      80     120    ..    ..    ..    ..    ..  \n",
      "1        30      30      30    ..    ..    ..    ..    ..  \n",
      "2        30      40      50    ..    ..    ..    ..    ..  \n",
      "3         0       0       0    ..    ..    ..    ..    ..  \n",
      "4         0       0       0    ..    ..    ..    ..    ..  \n",
      "..      ...     ...     ...   ...   ...   ...   ...   ...  \n",
      "443      10      40      40    ..    ..    ..    ..    ..  \n",
      "444     410     410     400    ..    ..    ..    ..    ..  \n",
      "445    1880    2180    2270    ..    ..    ..    ..    ..  \n",
      "446    2320   18310    4970    ..    ..    ..    ..    ..  \n",
      "447  402210  460650  535970    ..    ..    ..    ..    ..  \n",
      "\n",
      "[448 rows x 43 columns]\n"
     ]
    }
   ],
   "source": [
    "# Read sheet \"Australia by Residence\" from Australia.xlsx\n",
    "# Ignore the first 20 rows.\n",
    "import numpy as np\n",
    "import pandas as pd\n",
    "\n",
    "df1=pd.read_excel('Australia.xlsx',sheet_name='Australia by Residence',skiprows=20)\n",
    "print(df1)"
   ]
  },
  {
   "cell_type": "code",
   "execution_count": 2,
   "metadata": {},
   "outputs": [
    {
     "name": "stdout",
     "output_type": "stream",
     "text": [
      "Index([    'Type', 'Coverage',   'OdName',     'AREA', 'AreaName',      'REG',\n",
      "        'RegName',      'DEV',  'DevName',       1980,       1981,       1982,\n",
      "             1983,       1984,       1985,       1986,       1987,       1988,\n",
      "             1989,       1990,       1991,       1992,       1993,       1994,\n",
      "             1995,       1996,       1997,       1998,       1999,       2000,\n",
      "             2001,       2002,       2003,       2004,       2005,       2006,\n",
      "             2007,       2008,       2009,       2010,       2011,       2012,\n",
      "             2013],\n",
      "      dtype='object')\n",
      "RangeIndex(start=0, stop=448, step=1)\n"
     ]
    }
   ],
   "source": [
    "#List all Column and Row indexes(Print their names)\n",
    "print(df1.columns)\n",
    "print(df1.index)"
   ]
  },
  {
   "cell_type": "code",
   "execution_count": 3,
   "metadata": {},
   "outputs": [
    {
     "name": "stdout",
     "output_type": "stream",
     "text": [
      "             AREA          REG         DEV           1980           1981  \\\n",
      "count  448.000000   448.000000  448.000000     448.000000     448.000000   \n",
      "mean   912.955357  1208.040179  902.642857    1228.348214    1331.651786   \n",
      "std     15.019682  1109.669573    9.165500   10145.734028   11349.461111   \n",
      "min    903.000000   905.000000  901.000000       0.000000       0.000000   \n",
      "25%    903.750000   914.000000  902.000000       0.000000       0.000000   \n",
      "50%    908.000000   922.000000  902.000000      10.000000      10.000000   \n",
      "75%    909.000000   926.000000  902.000000     130.000000     140.000000   \n",
      "max    999.000000  5501.000000  999.000000  184290.000000  212690.000000   \n",
      "\n",
      "                1982           1983           1984           1985  \\\n",
      "count     448.000000     448.000000     448.000000     448.000000   \n",
      "mean     1283.660714    1134.285714    1115.580357    1187.455357   \n",
      "std     10643.064898    8965.372332    8805.489574    9545.180624   \n",
      "min         0.000000       0.000000       0.000000       0.000000   \n",
      "25%         0.000000       0.000000       0.000000       0.000000   \n",
      "50%        10.000000      10.000000      10.000000      10.000000   \n",
      "75%       160.000000     150.000000     162.500000     162.500000   \n",
      "max    195200.000000  153570.000000  153530.000000  172550.000000   \n",
      "\n",
      "                1986  ...           1999           2000           2001  \\\n",
      "count     448.000000  ...     448.000000     448.000000     448.000000   \n",
      "mean     1290.803571  ...    2122.946429    2337.857143    2555.982143   \n",
      "std     10588.914966  ...   16727.854191   18384.758383   20198.020921   \n",
      "min         0.000000  ...       0.000000       0.000000       0.000000   \n",
      "25%         0.000000  ...       0.000000      10.000000      10.000000   \n",
      "50%        10.000000  ...      30.000000      35.000000      40.000000   \n",
      "75%       182.500000  ...     362.500000     372.500000     360.000000   \n",
      "max    196690.000000  ...  289870.000000  317560.000000  356410.000000   \n",
      "\n",
      "                2002           2003           2004           2005  \\\n",
      "count     448.000000     448.000000     448.000000     448.000000   \n",
      "mean     2611.294643    2738.125000    2514.241071    2545.357143   \n",
      "std     20573.219253   21745.929611   19834.528214   20203.441660   \n",
      "min         0.000000       0.000000       0.000000       0.000000   \n",
      "25%        10.000000      10.000000      10.000000      10.000000   \n",
      "50%        45.000000      50.000000      50.000000      50.000000   \n",
      "75%       390.000000     420.000000     400.000000     410.000000   \n",
      "max    361990.000000  388450.000000  350990.000000  363470.000000   \n",
      "\n",
      "                2006           2007           2008  \n",
      "count     448.000000     448.000000     448.000000  \n",
      "mean     2709.866071    3023.348214    3376.116071  \n",
      "std     21786.641444   24542.748186   27950.462893  \n",
      "min         0.000000       0.000000       0.000000  \n",
      "25%        10.000000      10.000000      10.000000  \n",
      "50%        60.000000      70.000000      75.000000  \n",
      "75%       455.000000     480.000000     512.500000  \n",
      "max    402210.000000  460650.000000  535970.000000  \n",
      "\n",
      "[8 rows x 32 columns]\n"
     ]
    }
   ],
   "source": [
    "#Describe the dataset\n",
    "print(df1.describe())"
   ]
  },
  {
   "cell_type": "code",
   "execution_count": 4,
   "metadata": {},
   "outputs": [
    {
     "name": "stdout",
     "output_type": "stream",
     "text": [
      "['Type' 'Coverage' 'OdName' 'AREA' 'AreaName' 'REG' 'RegName' 'DEV'\n",
      " 'DevName' 1980 1981 1982 1983 1984 1985 1986 1987 1988 1989 1990 1991\n",
      " 1992 1993 1994 1995 1996 1997 1998 1999 2000 2001 2002 2003 2004 2005\n",
      " 2006 2007 2008 2009 2010 2011 2012 2013]\n",
      "[  0   1   2   3   4   5   6   7   8   9  10  11  12  13  14  15  16  17\n",
      "  18  19  20  21  22  23  24  25  26  27  28  29  30  31  32  33  34  35\n",
      "  36  37  38  39  40  41  42  43  44  45  46  47  48  49  50  51  52  53\n",
      "  54  55  56  57  58  59  60  61  62  63  64  65  66  67  68  69  70  71\n",
      "  72  73  74  75  76  77  78  79  80  81  82  83  84  85  86  87  88  89\n",
      "  90  91  92  93  94  95  96  97  98  99 100 101 102 103 104 105 106 107\n",
      " 108 109 110 111 112 113 114 115 116 117 118 119 120 121 122 123 124 125\n",
      " 126 127 128 129 130 131 132 133 134 135 136 137 138 139 140 141 142 143\n",
      " 144 145 146 147 148 149 150 151 152 153 154 155 156 157 158 159 160 161\n",
      " 162 163 164 165 166 167 168 169 170 171 172 173 174 175 176 177 178 179\n",
      " 180 181 182 183 184 185 186 187 188 189 190 191 192 193 194 195 196 197\n",
      " 198 199 200 201 202 203 204 205 206 207 208 209 210 211 212 213 214 215\n",
      " 216 217 218 219 220 221 222 223 224 225 226 227 228 229 230 231 232 233\n",
      " 234 235 236 237 238 239 240 241 242 243 244 245 246 247 248 249 250 251\n",
      " 252 253 254 255 256 257 258 259 260 261 262 263 264 265 266 267 268 269\n",
      " 270 271 272 273 274 275 276 277 278 279 280 281 282 283 284 285 286 287\n",
      " 288 289 290 291 292 293 294 295 296 297 298 299 300 301 302 303 304 305\n",
      " 306 307 308 309 310 311 312 313 314 315 316 317 318 319 320 321 322 323\n",
      " 324 325 326 327 328 329 330 331 332 333 334 335 336 337 338 339 340 341\n",
      " 342 343 344 345 346 347 348 349 350 351 352 353 354 355 356 357 358 359\n",
      " 360 361 362 363 364 365 366 367 368 369 370 371 372 373 374 375 376 377\n",
      " 378 379 380 381 382 383 384 385 386 387 388 389 390 391 392 393 394 395\n",
      " 396 397 398 399 400 401 402 403 404 405 406 407 408 409 410 411 412 413\n",
      " 414 415 416 417 418 419 420 421 422 423 424 425 426 427 428 429 430 431\n",
      " 432 433 434 435 436 437 438 439 440 441 442 443 444 445 446 447]\n"
     ]
    }
   ],
   "source": [
    "#Use values and index attributes on both Row and Column Indexes\n",
    "print(df1.columns.values)\n",
    "print(df1.index.values)"
   ]
  },
  {
   "cell_type": "code",
   "execution_count": 5,
   "metadata": {},
   "outputs": [
    {
     "name": "stdout",
     "output_type": "stream",
     "text": [
      "(448, 43)\n",
      "\n",
      "Type        object\n",
      "Coverage    object\n",
      "OdName      object\n",
      "AREA         int64\n",
      "AreaName    object\n",
      "REG          int64\n",
      "RegName     object\n",
      "DEV          int64\n",
      "DevName     object\n",
      "1980         int64\n",
      "1981         int64\n",
      "1982         int64\n",
      "1983         int64\n",
      "1984         int64\n",
      "1985         int64\n",
      "1986         int64\n",
      "1987         int64\n",
      "1988         int64\n",
      "1989         int64\n",
      "1990         int64\n",
      "1991         int64\n",
      "1992         int64\n",
      "1993         int64\n",
      "1994         int64\n",
      "1995         int64\n",
      "1996         int64\n",
      "1997         int64\n",
      "1998         int64\n",
      "1999         int64\n",
      "2000         int64\n",
      "2001         int64\n",
      "2002         int64\n",
      "2003         int64\n",
      "2004         int64\n",
      "2005         int64\n",
      "2006         int64\n",
      "2007         int64\n",
      "2008         int64\n",
      "2009        object\n",
      "2010        object\n",
      "2011        object\n",
      "2012        object\n",
      "2013        object\n",
      "dtype: object\n",
      "\n",
      "19264\n"
     ]
    }
   ],
   "source": [
    "#Check Shape, Datatypes and other attributes and observe the datatype of each columns' data\n",
    "print(df1.shape)\n",
    "print()\n",
    "print(df1.dtypes)\n",
    "print()\n",
    "print(df1.size)"
   ]
  },
  {
   "cell_type": "code",
   "execution_count": 6,
   "metadata": {},
   "outputs": [
    {
     "name": "stdout",
     "output_type": "stream",
     "text": [
      "           Type Coverage          OdName  AREA AreaName   REG  \\\n",
      "224  Immigrants     Both     Afghanistan   935     Asia  5501   \n",
      "225  Immigrants     Both         Albania   908   Europe   925   \n",
      "226  Immigrants     Both         Algeria   903   Africa   912   \n",
      "227  Immigrants     Both  American Samoa   909  Oceania   957   \n",
      "228  Immigrants     Both         Andorra   908   Europe   925   \n",
      "..          ...      ...             ...   ...      ...   ...   \n",
      "443  Immigrants     Both           Yemen   935     Asia   922   \n",
      "444  Immigrants     Both          Zambia   903   Africa   910   \n",
      "445  Immigrants     Both        Zimbabwe   903   Africa   910   \n",
      "446  Immigrants     Both         Unknown   999    World   999   \n",
      "447  Immigrants     Both           Total   999    World   999   \n",
      "\n",
      "             RegName  DEV             DevName    1980  ...    2004    2005  \\\n",
      "224    Southern Asia  902  Developing regions      10  ...      80     110   \n",
      "225  Southern Europe  901   Developed regions       0  ...     140     130   \n",
      "226  Northern Africa  902  Developing regions      10  ...      20      50   \n",
      "227        Polynesia  902  Developing regions       0  ...       0       0   \n",
      "228  Southern Europe  901   Developed regions       0  ...      10      10   \n",
      "..               ...  ...                 ...     ...  ...     ...     ...   \n",
      "443     Western Asia  902  Developing regions      10  ...      40      20   \n",
      "444   Eastern Africa  902  Developing regions     150  ...     370     240   \n",
      "445   Eastern Africa  902  Developing regions     630  ...    1790    1560   \n",
      "446            World  999               World    4060  ...    1650    1800   \n",
      "447            World  999               World  184290  ...  350990  363470   \n",
      "\n",
      "       2006    2007    2008  2009  2010  2011  2012  2013  \n",
      "224     180     140     560    ..    ..    ..    ..    ..  \n",
      "225     110     110     140    ..    ..    ..    ..    ..  \n",
      "226      30      30      60    ..    ..    ..    ..    ..  \n",
      "227       0       0      10    ..    ..    ..    ..    ..  \n",
      "228       0      10      10    ..    ..    ..    ..    ..  \n",
      "..      ...     ...     ...   ...   ...   ...   ...   ...  \n",
      "443      10      40      40    ..    ..    ..    ..    ..  \n",
      "444     410     410     400    ..    ..    ..    ..    ..  \n",
      "445    1880    2180    2270    ..    ..    ..    ..    ..  \n",
      "446    2320   18310    4970    ..    ..    ..    ..    ..  \n",
      "447  402210  460650  535970    ..    ..    ..    ..    ..  \n",
      "\n",
      "[224 rows x 43 columns]\n"
     ]
    }
   ],
   "source": [
    "#Delete all Data where the Type = \"Emigrants\" or Type is not \"Immigrants\" (Row Deletion)\n",
    "df1=df1.loc[df1['Type']==\"Immigrants\",:]\n",
    "print(df1)"
   ]
  },
  {
   "cell_type": "code",
   "execution_count": 7,
   "metadata": {},
   "outputs": [
    {
     "name": "stdout",
     "output_type": "stream",
     "text": [
      "None\n",
      "     2009  2010  2011  2012  2013\n",
      "224   NaN   NaN   NaN   NaN   NaN\n",
      "225   NaN   NaN   NaN   NaN   NaN\n",
      "226   NaN   NaN   NaN   NaN   NaN\n",
      "227   NaN   NaN   NaN   NaN   NaN\n",
      "228   NaN   NaN   NaN   NaN   NaN\n",
      "..    ...   ...   ...   ...   ...\n",
      "443   NaN   NaN   NaN   NaN   NaN\n",
      "444   NaN   NaN   NaN   NaN   NaN\n",
      "445   NaN   NaN   NaN   NaN   NaN\n",
      "446   NaN   NaN   NaN   NaN   NaN\n",
      "447   NaN   NaN   NaN   NaN   NaN\n",
      "\n",
      "[224 rows x 5 columns]\n",
      "           Type Coverage          OdName  AREA AreaName   REG  \\\n",
      "224  Immigrants     Both     Afghanistan   935     Asia  5501   \n",
      "225  Immigrants     Both         Albania   908   Europe   925   \n",
      "226  Immigrants     Both         Algeria   903   Africa   912   \n",
      "227  Immigrants     Both  American Samoa   909  Oceania   957   \n",
      "228  Immigrants     Both         Andorra   908   Europe   925   \n",
      "..          ...      ...             ...   ...      ...   ...   \n",
      "443  Immigrants     Both           Yemen   935     Asia   922   \n",
      "444  Immigrants     Both          Zambia   903   Africa   910   \n",
      "445  Immigrants     Both        Zimbabwe   903   Africa   910   \n",
      "446  Immigrants     Both         Unknown   999    World   999   \n",
      "447  Immigrants     Both           Total   999    World   999   \n",
      "\n",
      "             RegName  DEV             DevName    1980  ...    1999    2000  \\\n",
      "224    Southern Asia  902  Developing regions      10  ...     270     100   \n",
      "225  Southern Europe  901   Developed regions       0  ...      70     110   \n",
      "226  Northern Africa  902  Developing regions      10  ...      30      20   \n",
      "227        Polynesia  902  Developing regions       0  ...       0       0   \n",
      "228  Southern Europe  901   Developed regions       0  ...      10       0   \n",
      "..               ...  ...                 ...     ...  ...     ...     ...   \n",
      "443     Western Asia  902  Developing regions      10  ...      20      20   \n",
      "444   Eastern Africa  902  Developing regions     150  ...      60     100   \n",
      "445   Eastern Africa  902  Developing regions     630  ...     510     910   \n",
      "446            World  999               World    4060  ...    2850    5500   \n",
      "447            World  999               World  184290  ...  289870  317560   \n",
      "\n",
      "       2001    2002    2003    2004    2005    2006    2007    2008  \n",
      "224      20      40      70      80     110     180     140     560  \n",
      "225     110     200     250     140     130     110     110     140  \n",
      "226      30      60      20      20      50      30      30      60  \n",
      "227       0       0       0       0       0       0       0      10  \n",
      "228      10      10       0      10      10       0      10      10  \n",
      "..      ...     ...     ...     ...     ...     ...     ...     ...  \n",
      "443      60      40     150      40      20      10      40      40  \n",
      "444     190     260     430     370     240     410     410     400  \n",
      "445    1500    1670    2330    1790    1560    1880    2180    2270  \n",
      "446    5090    2160    1760    1650    1800    2320   18310    4970  \n",
      "447  356410  361990  388450  350990  363470  402210  460650  535970  \n",
      "\n",
      "[224 rows x 38 columns]\n"
     ]
    }
   ],
   "source": [
    "#Find columns for which more than 50% data is missing and drop them (Column Deletion)\n",
    "\n",
    "print(df1.replace(to_replace=['..',''],value=np.nan,inplace=True))\n",
    "print(df1.loc[:,df1.isna().mean()>0.5])\n",
    "df1=df1.loc[:,df1.isna().mean()<0.5]\n",
    "print(df1)"
   ]
  },
  {
   "cell_type": "code",
   "execution_count": 8,
   "metadata": {},
   "outputs": [
    {
     "name": "stdout",
     "output_type": "stream",
     "text": [
      "None\n",
      "             OdName AreaName          RegName             DevName    1980  \\\n",
      "224     Afghanistan     Asia    Southern Asia  Developing regions      10   \n",
      "225         Albania   Europe  Southern Europe   Developed regions       0   \n",
      "226         Algeria   Africa  Northern Africa  Developing regions      10   \n",
      "227  American Samoa  Oceania        Polynesia  Developing regions       0   \n",
      "228         Andorra   Europe  Southern Europe   Developed regions       0   \n",
      "..              ...      ...              ...                 ...     ...   \n",
      "443           Yemen     Asia     Western Asia  Developing regions      10   \n",
      "444          Zambia   Africa   Eastern Africa  Developing regions     150   \n",
      "445        Zimbabwe   Africa   Eastern Africa  Developing regions     630   \n",
      "446         Unknown    World            World               World    4060   \n",
      "447           Total    World            World               World  184290   \n",
      "\n",
      "       1981    1982    1983    1984    1985  ...    1999    2000    2001  \\\n",
      "224      20      30      30      70     100  ...     270     100      20   \n",
      "225       0       0       0       0       0  ...      70     110     110   \n",
      "226      50      30      10      20      20  ...      30      20      30   \n",
      "227       0       0       0       0      20  ...       0       0       0   \n",
      "228       0      10       0       0       0  ...      10       0      10   \n",
      "..      ...     ...     ...     ...     ...  ...     ...     ...     ...   \n",
      "443       0       0      10      20      10  ...      20      20      60   \n",
      "444     110     120     180     130     170  ...      60     100     190   \n",
      "445    1120    1190     980     640     500  ...     510     910    1500   \n",
      "446    4440    4010    3220    3970    4610  ...    2850    5500    5090   \n",
      "447  212690  195200  153570  153530  172550  ...  289870  317560  356410   \n",
      "\n",
      "       2002    2003    2004    2005    2006    2007    2008  \n",
      "224      40      70      80     110     180     140     560  \n",
      "225     200     250     140     130     110     110     140  \n",
      "226      60      20      20      50      30      30      60  \n",
      "227       0       0       0       0       0       0      10  \n",
      "228      10       0      10      10       0      10      10  \n",
      "..      ...     ...     ...     ...     ...     ...     ...  \n",
      "443      40     150      40      20      10      40      40  \n",
      "444     260     430     370     240     410     410     400  \n",
      "445    1670    2330    1790    1560    1880    2180    2270  \n",
      "446    2160    1760    1650    1800    2320   18310    4970  \n",
      "447  361990  388450  350990  363470  402210  460650  535970  \n",
      "\n",
      "[224 rows x 33 columns]\n"
     ]
    }
   ],
   "source": [
    "# Drop Unnessary Columns: Type, Coverage, Area, Reg, Dev (Column deletion) \n",
    "# Your columns should now look like \"OdName,AreaName,RegName,DevName,1980 ... 2008\"\n",
    "\n",
    "print(df1.drop(columns=['Type', 'Coverage','AREA', 'REG', 'DEV'],inplace=True,axis=1))\n",
    "print(df1)"
   ]
  },
  {
   "cell_type": "code",
   "execution_count": 17,
   "metadata": {},
   "outputs": [
    {
     "name": "stdout",
     "output_type": "stream",
     "text": [
      "None\n"
     ]
    }
   ],
   "source": [
    "#Rename columns :OdName -> Country; RegName -> Region\n",
    "print(df1.rename(columns={'OdName':'Country','RegName':'Region'},inplace=True))"
   ]
  },
  {
   "cell_type": "code",
   "execution_count": 10,
   "metadata": {},
   "outputs": [
    {
     "name": "stdout",
     "output_type": "stream",
     "text": [
      "OdName      object\n",
      "AreaName    object\n",
      "RegName     object\n",
      "DevName     object\n",
      "1980        object\n",
      "1981        object\n",
      "1982        object\n",
      "1983        object\n",
      "1984        object\n",
      "1985        object\n",
      "1986        object\n",
      "1987        object\n",
      "1988        object\n",
      "1989        object\n",
      "1990        object\n",
      "1991        object\n",
      "1992        object\n",
      "1993        object\n",
      "1994        object\n",
      "1995        object\n",
      "1996        object\n",
      "1997        object\n",
      "1998        object\n",
      "1999        object\n",
      "2000        object\n",
      "2001        object\n",
      "2002        object\n",
      "2003        object\n",
      "2004        object\n",
      "2005        object\n",
      "2006        object\n",
      "2007        object\n",
      "2008        object\n",
      "dtype: object\n"
     ]
    }
   ],
   "source": [
    "# Convert Column Names with Int type to Strings to avoid index errors with string indexing \n",
    "# \"1980, 1981 etc.\" => \" '1980', '1981' ... \" (Use rename)\n",
    "\n",
    "df1=df1.astype('object')\n",
    "print(df1.dtypes)"
   ]
  },
  {
   "cell_type": "code",
   "execution_count": 11,
   "metadata": {},
   "outputs": [
    {
     "name": "stdout",
     "output_type": "stream",
     "text": [
      "             OdName AreaName          RegName             DevName    1980  \\\n",
      "224     Afghanistan     Asia    Southern Asia  Developing regions      10   \n",
      "225         Albania   Europe  Southern Europe   Developed regions       0   \n",
      "226         Algeria   Africa  Northern Africa  Developing regions      10   \n",
      "227  American Samoa  Oceania        Polynesia  Developing regions       0   \n",
      "228         Andorra   Europe  Southern Europe   Developed regions       0   \n",
      "..              ...      ...              ...                 ...     ...   \n",
      "443           Yemen     Asia     Western Asia  Developing regions      10   \n",
      "444          Zambia   Africa   Eastern Africa  Developing regions     150   \n",
      "445        Zimbabwe   Africa   Eastern Africa  Developing regions     630   \n",
      "446         Unknown    World            World               World    4060   \n",
      "447           Total    World            World               World  184290   \n",
      "\n",
      "       1981    1982    1983    1984    1985  ...    2000    2001    2002  \\\n",
      "224      20      30      30      70     100  ...     100      20      40   \n",
      "225       0       0       0       0       0  ...     110     110     200   \n",
      "226      50      30      10      20      20  ...      20      30      60   \n",
      "227       0       0       0       0      20  ...       0       0       0   \n",
      "228       0      10       0       0       0  ...       0      10      10   \n",
      "..      ...     ...     ...     ...     ...  ...     ...     ...     ...   \n",
      "443       0       0      10      20      10  ...      20      60      40   \n",
      "444     110     120     180     130     170  ...     100     190     260   \n",
      "445    1120    1190     980     640     500  ...     910    1500    1670   \n",
      "446    4440    4010    3220    3970    4610  ...    5500    5090    2160   \n",
      "447  212690  195200  153570  153530  172550  ...  317560  356410  361990   \n",
      "\n",
      "       2003    2004    2005    2006    2007    2008      Total  \n",
      "224      70      80     110     180     140     560     4630.0  \n",
      "225     250     140     130     110     110     140     1910.0  \n",
      "226      20      20      50      30      30      60      730.0  \n",
      "227       0       0       0       0       0      10       30.0  \n",
      "228       0      10      10       0      10      10      100.0  \n",
      "..      ...     ...     ...     ...     ...     ...        ...  \n",
      "443     150      40      20      10      40      40      570.0  \n",
      "444     430     370     240     410     410     400     5590.0  \n",
      "445    2330    1790    1560    1880    2180    2270    27350.0  \n",
      "446    1760    1650    1800    2320   18310    4970   141660.0  \n",
      "447  388450  350990  363470  402210  460650  535970  7965110.0  \n",
      "\n",
      "[224 rows x 34 columns]\n"
     ]
    }
   ],
   "source": [
    "# Find Total number of immigrants for all years, and create a new column Total in data Frame\n",
    "\n",
    "df1['Total']=df1.iloc[:,4:].sum(axis=1)\n",
    "print(df1)\n"
   ]
  },
  {
   "cell_type": "code",
   "execution_count": 16,
   "metadata": {},
   "outputs": [
    {
     "name": "stdout",
     "output_type": "stream",
     "text": [
      "                                                OdName          AreaName  \\\n",
      "432  United Kingdom of Great Britain and Northern I...            Europe   \n",
      "367                                        New Zealand           Oceania   \n",
      "434                           United States of America  Northern America   \n",
      "266     China, Hong Kong Special Administrative Region              Asia   \n",
      "265                                              China              Asia   \n",
      "\n",
      "                       RegName             DevName   1980   1981   1982  \\\n",
      "432            Northern Europe   Developed regions  43540  57050  51730   \n",
      "367  Australia and New Zealand   Developed regions  34370  34440  23920   \n",
      "434           Northern America   Developed regions  10470  12080  12490   \n",
      "266               Eastern Asia  Developing regions   4170   4380   4980   \n",
      "265               Eastern Asia  Developing regions    860    870    560   \n",
      "\n",
      "      1983   1984   1985  ...   2000   2001   2002   2003   2004   2005  \\\n",
      "432  31660  25150  27630  ...  51000  52940  57330  70150  53140  53300   \n",
      "367  13620  16900  27070  ...  47230  45570  29500  28000  40710  44680   \n",
      "434  11110  11840  12480  ...  18030  19230  18950  18980  18540  18490   \n",
      "266   5480   7450   6820  ...  16410  18620  20200  19220   9740  10070   \n",
      "265    580   1220   2190  ...  16700  22220  29000  33410  29860  28820   \n",
      "\n",
      "      2006   2007   2008      Total  \n",
      "432  57250  61490  65160  1333340.0  \n",
      "367  45550  39120  46960   898760.0  \n",
      "434  17320  19260  20860   450370.0  \n",
      "266  10270   9680  11030   388640.0  \n",
      "265  32190  42920  54300   387180.0  \n",
      "\n",
      "[5 rows x 34 columns]\n",
      "None\n",
      "                               OdName                         AreaName  \\\n",
      "435      United States Virgin Islands  Latin America and the Caribbean   \n",
      "230                          Anguilla  Latin America and the Caribbean   \n",
      "427          Turks and Caicos Islands  Latin America and the Caribbean   \n",
      "353                           Mayotte                           Africa   \n",
      "395  Saint Vincent and the Grenadines  Latin America and the Caribbean   \n",
      "\n",
      "            RegName             DevName 1980 1981 1982 1983 1984 1985  ...  \\\n",
      "435       Caribbean  Developing regions    0    0    0    0    0    0  ...   \n",
      "230       Caribbean  Developing regions    0    0    0    0    0    0  ...   \n",
      "427       Caribbean  Developing regions    0    0    0    0    0    0  ...   \n",
      "353  Eastern Africa  Developing regions    0    0    0    0    0    0  ...   \n",
      "395       Caribbean  Developing regions    0    0    0    0    0    0  ...   \n",
      "\n",
      "    2000 2001 2002 2003 2004 2005 2006 2007 2008 Total  \n",
      "435    0    0    0    0    0    0    0    0    0   0.0  \n",
      "230    0    0    0    0    0    0    0    0    0   0.0  \n",
      "427    0    0    0    0    0    0    0    0    0   0.0  \n",
      "353    0    0    0    0    0    0    0    0    0   0.0  \n",
      "395    0    0    0    0    0    0    0    0    0   0.0  \n",
      "\n",
      "[5 rows x 34 columns]\n"
     ]
    }
   ],
   "source": [
    "# Sort Data by the new column Total in descending order and analyze the fist few rows. (get first few rows using head)\n",
    "# find something weird in the dataset ? Delete that row 'world'\n",
    "#Analyze last few rows also in the sorted result (Don't sort inplace)\n",
    "\n",
    "print(df1.sort_values(by='Total',ascending=False).head())\n",
    "print(df1.drop(df1[df1['AreaName']=='World'].index,inplace=True))\n",
    "print(df1.sort_values(by='Total',ascending=False).tail())"
   ]
  },
  {
   "cell_type": "code",
   "execution_count": 34,
   "metadata": {},
   "outputs": [
    {
     "name": "stdout",
     "output_type": "stream",
     "text": [
      "True\n",
      "False\n",
      "True\n"
     ]
    }
   ],
   "source": [
    "# Check if these have all unique values or not:\n",
    "    # countries\n",
    "    # continents (AreaName)\n",
    "    # country continent pairs\n",
    "\n",
    "print(df1.Country.is_unique)\n",
    "print(df1.AreaName.is_unique)\n",
    "print(df1.set_index(['Country','AreaName']).index.is_unique) #set_index makes index from existing columns.here country and area became a single index.\n"
   ]
  },
  {
   "cell_type": "code",
   "execution_count": 98,
   "metadata": {},
   "outputs": [
    {
     "name": "stdout",
     "output_type": "stream",
     "text": [
      "225                         Albania\n",
      "227                  American Samoa\n",
      "228                         Andorra\n",
      "229                          Angola\n",
      "230                        Anguilla\n",
      "                   ...             \n",
      "435    United States Virgin Islands\n",
      "437                      Uzbekistan\n",
      "441       Wallis and Futuna Islands\n",
      "442                  Western Sahara\n",
      "443                           Yemen\n",
      "Name: Country, Length: 121, dtype: object\n"
     ]
    }
   ],
   "source": [
    "# Find countries for which no of immigrants for all years is 0\n",
    "# Find count of above countries\n",
    "# Find countries for which no of immigrants is 0 for any year\n",
    "\n",
    "print(df1.loc[df1['Total']==0,'Country'])\n",
    "print(df1.loc[df1['Total']==0,'Country'].count())\n",
    "\n",
    "#3 ways to find the 3rd que\n",
    "\n",
    "#print(df1.Country[df1.iloc[:,4:].apply(lambda x:x==0).any(axis=1)])\n",
    "#print(df1.Country[(df1.iloc[:,4:]==0).any(axis=1)])\n",
    "print(df1[(df1.iloc[:,4:]==0).any(axis=1)].Country)"
   ]
  },
  {
   "cell_type": "code",
   "execution_count": 76,
   "metadata": {},
   "outputs": [
    {
     "name": "stdout",
     "output_type": "stream",
     "text": [
      "None\n"
     ]
    }
   ],
   "source": [
    "# Drop the row where AreaName is 'World'\n",
    "# Save the dataset to a new file AustraliaFiltered.xlsx\n",
    "\n",
    "print(df1.to_excel('AustraliaFiltered.xlsx'))"
   ]
  },
  {
   "cell_type": "code",
   "execution_count": null,
   "metadata": {},
   "outputs": [],
   "source": []
  }
 ],
 "metadata": {
  "kernelspec": {
   "display_name": "Python 3",
   "language": "python",
   "name": "python3"
  },
  "language_info": {
   "codemirror_mode": {
    "name": "ipython",
    "version": 3
   },
   "file_extension": ".py",
   "mimetype": "text/x-python",
   "name": "python",
   "nbconvert_exporter": "python",
   "pygments_lexer": "ipython3",
   "version": "3.7.6"
  }
 },
 "nbformat": 4,
 "nbformat_minor": 2
}
