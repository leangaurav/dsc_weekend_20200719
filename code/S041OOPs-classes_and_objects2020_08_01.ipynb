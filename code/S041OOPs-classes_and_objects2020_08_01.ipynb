{
 "cells": [
  {
   "cell_type": "code",
   "execution_count": null,
   "metadata": {},
   "outputs": [],
   "source": [
    "x = 10\n",
    "y = 20  \n",
    "x + y"
   ]
  },
  {
   "cell_type": "code",
   "execution_count": null,
   "metadata": {},
   "outputs": [],
   "source": [
    "x = '10'\n",
    "y = '20'  \n",
    "x + y"
   ]
  },
  {
   "cell_type": "code",
   "execution_count": null,
   "metadata": {},
   "outputs": [],
   "source": [
    "x = '10'\n",
    "y = '20'  \n",
    "x - y"
   ]
  },
  {
   "cell_type": "code",
   "execution_count": null,
   "metadata": {},
   "outputs": [],
   "source": [
    "x = 10\n",
    "y = 20  \n",
    "x * y"
   ]
  },
  {
   "cell_type": "code",
   "execution_count": 1,
   "metadata": {},
   "outputs": [
    {
     "data": {
      "text/plain": [
       "'1010101010101010101010101010101010101010'"
      ]
     },
     "execution_count": 1,
     "metadata": {},
     "output_type": "execute_result"
    }
   ],
   "source": [
    "x = '10'\n",
    "y = 20  \n",
    "x * y"
   ]
  },
  {
   "cell_type": "code",
   "execution_count": null,
   "metadata": {},
   "outputs": [],
   "source": [
    "age = 10\n",
    "age -= 20"
   ]
  },
  {
   "cell_type": "code",
   "execution_count": null,
   "metadata": {},
   "outputs": [],
   "source": [
    "# class : int\n",
    "# object : 10, -10, 1, 0 "
   ]
  },
  {
   "cell_type": "code",
   "execution_count": null,
   "metadata": {},
   "outputs": [],
   "source": [
    "class <Class Name>:\n",
    "    ...\n"
   ]
  },
  {
   "cell_type": "code",
   "execution_count": 7,
   "metadata": {},
   "outputs": [
    {
     "name": "stdout",
     "output_type": "stream",
     "text": [
      "<class '__main__.Age'>\n"
     ]
    }
   ],
   "source": [
    "class Age:\n",
    "    pass\n",
    "\n",
    "print(Age)"
   ]
  },
  {
   "cell_type": "code",
   "execution_count": 9,
   "metadata": {},
   "outputs": [
    {
     "name": "stdout",
     "output_type": "stream",
     "text": [
      "<__main__.Age object at 0x000002D6B6F49488> <__main__.Age object at 0x000002D6B6F49448>\n"
     ]
    }
   ],
   "source": [
    "a1 = Age()\n",
    "a2 = Age()\n",
    "print(a1, a2)"
   ]
  },
  {
   "cell_type": "code",
   "execution_count": 17,
   "metadata": {},
   "outputs": [
    {
     "name": "stdout",
     "output_type": "stream",
     "text": [
      "['__class__', '__delattr__', '__dict__', '__dir__', '__doc__', '__eq__', '__format__', '__ge__', '__getattribute__', '__gt__', '__hash__', '__init__', '__init_subclass__', '__le__', '__lt__', '__module__', '__ne__', '__new__', '__reduce__', '__reduce_ex__', '__repr__', '__setattr__', '__sizeof__', '__str__', '__subclasshook__', '__weakref__']\n",
      "\n",
      "['__class__', '__delattr__', '__dict__', '__dir__', '__doc__', '__eq__', '__format__', '__ge__', '__getattribute__', '__gt__', '__hash__', '__init__', '__init_subclass__', '__le__', '__lt__', '__module__', '__ne__', '__new__', '__reduce__', '__reduce_ex__', '__repr__', '__setattr__', '__sizeof__', '__str__', '__subclasshook__', '__weakref__', 'value', 'x']\n",
      "10\n"
     ]
    }
   ],
   "source": [
    "a1 = Age()\n",
    "print(dir(a1))\n",
    "a1.value = 10 # attribute\n",
    "a1.x = 200    # attribute\n",
    "\n",
    "print()\n",
    "print(dir(a1))\n",
    "print(a1.value)"
   ]
  },
  {
   "cell_type": "code",
   "execution_count": null,
   "metadata": {},
   "outputs": [],
   "source": [
    "Age\n",
    "- value : holds the age\n",
    "\n",
    "- add(n) : adds n to age value\n",
    "- sub(n) : subtracts n from age value"
   ]
  },
  {
   "cell_type": "code",
   "execution_count": 27,
   "metadata": {},
   "outputs": [
    {
     "name": "stdout",
     "output_type": "stream",
     "text": [
      "self 3121215820424\n",
      "self 3121215820488\n",
      "\n",
      "a1 3121215820424\n",
      "a2 3121215820488\n"
     ]
    },
    {
     "ename": "AttributeError",
     "evalue": "'Age' object has no attribute 'value'",
     "output_type": "error",
     "traceback": [
      "\u001b[1;31m---------------------------------------------------------------------------\u001b[0m",
      "\u001b[1;31mAttributeError\u001b[0m                            Traceback (most recent call last)",
      "\u001b[1;32m<ipython-input-27-5f5a48ec92d0>\u001b[0m in \u001b[0;36m<module>\u001b[1;34m\u001b[0m\n\u001b[0;32m     10\u001b[0m \u001b[0mprint\u001b[0m\u001b[1;33m(\u001b[0m\u001b[1;34m\"a1\"\u001b[0m\u001b[1;33m,\u001b[0m \u001b[0mid\u001b[0m\u001b[1;33m(\u001b[0m\u001b[0ma1\u001b[0m\u001b[1;33m)\u001b[0m\u001b[1;33m)\u001b[0m\u001b[1;33m\u001b[0m\u001b[1;33m\u001b[0m\u001b[0m\n\u001b[0;32m     11\u001b[0m \u001b[0mprint\u001b[0m\u001b[1;33m(\u001b[0m\u001b[1;34m\"a2\"\u001b[0m\u001b[1;33m,\u001b[0m \u001b[0mid\u001b[0m\u001b[1;33m(\u001b[0m\u001b[0ma2\u001b[0m\u001b[1;33m)\u001b[0m\u001b[1;33m)\u001b[0m\u001b[1;33m\u001b[0m\u001b[1;33m\u001b[0m\u001b[0m\n\u001b[1;32m---> 12\u001b[1;33m \u001b[0mprint\u001b[0m\u001b[1;33m(\u001b[0m\u001b[0ma1\u001b[0m\u001b[1;33m.\u001b[0m\u001b[0mvalue\u001b[0m\u001b[1;33m)\u001b[0m\u001b[1;33m\u001b[0m\u001b[1;33m\u001b[0m\u001b[0m\n\u001b[0m",
      "\u001b[1;31mAttributeError\u001b[0m: 'Age' object has no attribute 'value'"
     ]
    }
   ],
   "source": [
    "## constructor / __init__\n",
    "class Age:\n",
    "    def __init__(self):\n",
    "        print(\"self\", id(self))\n",
    "    \n",
    "a1 = Age()\n",
    "a2 = Age()\n",
    "\n",
    "print()\n",
    "print(\"a1\", id(a1))\n",
    "print(\"a2\", id(a2))\n",
    "print(a1.value)"
   ]
  },
  {
   "cell_type": "code",
   "execution_count": 30,
   "metadata": {},
   "outputs": [
    {
     "name": "stdout",
     "output_type": "stream",
     "text": [
      "self 3121215877192\n",
      "self 3121215877256\n",
      "\n",
      "a1 3121215877192\n",
      "a2 3121215877256\n",
      "10\n"
     ]
    },
    {
     "ename": "AttributeError",
     "evalue": "'Age' object has no attribute 'value'",
     "output_type": "error",
     "traceback": [
      "\u001b[1;31m---------------------------------------------------------------------------\u001b[0m",
      "\u001b[1;31mAttributeError\u001b[0m                            Traceback (most recent call last)",
      "\u001b[1;32m<ipython-input-30-99d010504a2f>\u001b[0m in \u001b[0;36m<module>\u001b[1;34m\u001b[0m\n\u001b[0;32m     12\u001b[0m \u001b[0mprint\u001b[0m\u001b[1;33m(\u001b[0m\u001b[1;34m\"a2\"\u001b[0m\u001b[1;33m,\u001b[0m \u001b[0mid\u001b[0m\u001b[1;33m(\u001b[0m\u001b[0ma2\u001b[0m\u001b[1;33m)\u001b[0m\u001b[1;33m)\u001b[0m\u001b[1;33m\u001b[0m\u001b[1;33m\u001b[0m\u001b[0m\n\u001b[0;32m     13\u001b[0m \u001b[0mprint\u001b[0m\u001b[1;33m(\u001b[0m\u001b[0ma1\u001b[0m\u001b[1;33m.\u001b[0m\u001b[0mvalue\u001b[0m\u001b[1;33m)\u001b[0m\u001b[1;33m\u001b[0m\u001b[1;33m\u001b[0m\u001b[0m\n\u001b[1;32m---> 14\u001b[1;33m \u001b[0mprint\u001b[0m\u001b[1;33m(\u001b[0m\u001b[0ma2\u001b[0m\u001b[1;33m.\u001b[0m\u001b[0mvalue\u001b[0m\u001b[1;33m)\u001b[0m\u001b[1;33m\u001b[0m\u001b[1;33m\u001b[0m\u001b[0m\n\u001b[0m",
      "\u001b[1;31mAttributeError\u001b[0m: 'Age' object has no attribute 'value'"
     ]
    }
   ],
   "source": [
    "## constructor / __init__\n",
    "class Age:\n",
    "    def __init__(self):\n",
    "        print(\"self\", id(self))\n",
    "    \n",
    "a1 = Age()\n",
    "a2 = Age()\n",
    "a1.value = 10\n",
    "\n",
    "print()\n",
    "print(\"a1\", id(a1))\n",
    "print(\"a2\", id(a2))\n",
    "print(a1.value)\n",
    "print(a2.value)"
   ]
  },
  {
   "cell_type": "code",
   "execution_count": 31,
   "metadata": {},
   "outputs": [
    {
     "name": "stdout",
     "output_type": "stream",
     "text": [
      "self 3121215881096\n",
      "self 3121215881160\n",
      "\n",
      "a1 3121215881096\n",
      "a2 3121215881160\n",
      "10\n",
      "10\n"
     ]
    }
   ],
   "source": [
    "## constructor / __init__\n",
    "class Age:\n",
    "    def __init__(self):\n",
    "        self.value = 10\n",
    "        print(\"self\", id(self))\n",
    "    \n",
    "a1 = Age()\n",
    "a2 = Age()\n",
    "\n",
    "print()\n",
    "print(\"a1\", id(a1))\n",
    "print(\"a2\", id(a2))\n",
    "print(a1.value)\n",
    "print(a2.value)"
   ]
  },
  {
   "cell_type": "code",
   "execution_count": 40,
   "metadata": {},
   "outputs": [
    {
     "name": "stdout",
     "output_type": "stream",
     "text": [
      "10\n",
      "\n",
      "15\n",
      "\n",
      "5\n",
      "\n",
      "-5\n"
     ]
    }
   ],
   "source": [
    "## constructor / __init__\n",
    "class Age:\n",
    "    def __init__(self, value):\n",
    "        self.value = value\n",
    "    \n",
    "    def add(self, n):\n",
    "        self.value  += n\n",
    "\n",
    "    def sub(self, n):\n",
    "        if self.value - n < 0:\n",
    "            raise Exception(\"Age cannot be negative : %d\" % n)\n",
    "        self.value  -= n\n",
    "        \n",
    "    \n",
    "a1 = Age(10)\n",
    "print(a1.value)\n",
    "\n",
    "a1.add(5)\n",
    "print()\n",
    "print(a1.value)\n",
    "\n",
    "a1.sub(10)\n",
    "print()\n",
    "print(a1.value)\n",
    "\n",
    "a1.value -= 10\n",
    "\n",
    "#a1.sub(10)\n",
    "print()\n",
    "print(a1.value)"
   ]
  },
  {
   "cell_type": "code",
   "execution_count": 56,
   "metadata": {},
   "outputs": [
    {
     "name": "stdout",
     "output_type": "stream",
     "text": [
      "Age : 10\n",
      "adding 1 to 10\n",
      "adding -5 to 11\n",
      "Age : 6\n"
     ]
    }
   ],
   "source": [
    "## hiding attributes : pretty printing objects\n",
    "class Age:\n",
    "    def __init__(self, value):\n",
    "        self.__value = value\n",
    "    \n",
    "    def add(self, n):\n",
    "        print(\"adding %d to %d\" % (n, self.__value))\n",
    "        self.__value  += n\n",
    "\n",
    "    def sub(self, n):\n",
    "        if self.__value - n < 0:\n",
    "            raise Exception(\"Age cannot be negative : %d\" % n)\n",
    "        self.add(-n)\n",
    "        #self.__value  -= n\n",
    "        \n",
    "    def __str__(self): # overriding default __str__\n",
    "        return \"Age : %d\" % self.__value\n",
    "    \n",
    "a1 = Age(10)\n",
    "print(a1)\n",
    "a1.add(1)\n",
    "a1.sub(5)\n",
    "print(a1)"
   ]
  },
  {
   "cell_type": "code",
   "execution_count": 50,
   "metadata": {},
   "outputs": [
    {
     "name": "stdout",
     "output_type": "stream",
     "text": [
      "Age : 10\n",
      "Age : 15\n",
      "Age : 5\n"
     ]
    },
    {
     "ename": "AttributeError",
     "evalue": "'Age' object has no attribute '__value'",
     "output_type": "error",
     "traceback": [
      "\u001b[1;31m---------------------------------------------------------------------------\u001b[0m",
      "\u001b[1;31mAttributeError\u001b[0m                            Traceback (most recent call last)",
      "\u001b[1;32m<ipython-input-50-941b8209db11>\u001b[0m in \u001b[0;36m<module>\u001b[1;34m\u001b[0m\n\u001b[0;32m     24\u001b[0m \u001b[0mprint\u001b[0m\u001b[1;33m(\u001b[0m\u001b[0ma1\u001b[0m\u001b[1;33m)\u001b[0m\u001b[1;33m\u001b[0m\u001b[1;33m\u001b[0m\u001b[0m\n\u001b[0;32m     25\u001b[0m \u001b[1;33m\u001b[0m\u001b[0m\n\u001b[1;32m---> 26\u001b[1;33m \u001b[0ma1\u001b[0m\u001b[1;33m.\u001b[0m\u001b[0m__value\u001b[0m \u001b[1;33m-=\u001b[0m \u001b[1;36m10\u001b[0m\u001b[1;33m\u001b[0m\u001b[1;33m\u001b[0m\u001b[0m\n\u001b[0m\u001b[0;32m     27\u001b[0m \u001b[1;33m\u001b[0m\u001b[0m\n\u001b[0;32m     28\u001b[0m \u001b[1;31m#a1.sub(10)\u001b[0m\u001b[1;33m\u001b[0m\u001b[1;33m\u001b[0m\u001b[1;33m\u001b[0m\u001b[0m\n",
      "\u001b[1;31mAttributeError\u001b[0m: 'Age' object has no attribute '__value'"
     ]
    }
   ],
   "source": [
    "## hiding attributes \n",
    "class Age:\n",
    "    def __init__(self, value):\n",
    "        self.__value = value\n",
    "    \n",
    "    def add(self, n):\n",
    "        self.__value  += n\n",
    "\n",
    "    def sub(self, n):\n",
    "        if self.__value - n < 0:\n",
    "            raise Exception(\"Age cannot be negative : %d\" % n)\n",
    "        self.__value  -= n\n",
    "    def __str__(self): # overriding default __str__\n",
    "        return \"Age : %d\" % self.__value\n",
    "        \n",
    "    \n",
    "a1 = Age(10)\n",
    "print(a1)\n",
    "\n",
    "a1.add(5)\n",
    "print(a1)\n",
    "\n",
    "a1.sub(10)\n",
    "print(a1)\n",
    "\n",
    "a1.__value -= 10\n",
    "\n",
    "#a1.sub(10)\n",
    "print()\n",
    "print(a1.value)"
   ]
  },
  {
   "cell_type": "code",
   "execution_count": 36,
   "metadata": {},
   "outputs": [
    {
     "name": "stdout",
     "output_type": "stream",
     "text": [
      "self 3121215840072\n",
      "self 3121215838344\n",
      "\n",
      "a1 3121215840072\n",
      "a2 3121215838344\n",
      "10\n",
      "20\n"
     ]
    }
   ],
   "source": [
    "## constructor / __init__\n",
    "class Age:\n",
    "    def __init__(self, value): # magic methods\n",
    "        self.value = value\n",
    "        print(\"self\", id(self))\n",
    "    \n",
    "a1 = Age(10)\n",
    "a2 = Age(20)\n",
    "\n",
    "print()\n",
    "print(\"a1\", id(a1))\n",
    "print(\"a2\", id(a2))\n",
    "print(a1.value)\n",
    "print(a2.value)"
   ]
  },
  {
   "cell_type": "code",
   "execution_count": null,
   "metadata": {},
   "outputs": [],
   "source": [
    "def funct():\n",
    "    pass\n",
    "\n",
    "if True:\n",
    "    pass"
   ]
  },
  {
   "cell_type": "code",
   "execution_count": 3,
   "metadata": {},
   "outputs": [
    {
     "name": "stdout",
     "output_type": "stream",
     "text": [
      "10\n"
     ]
    }
   ],
   "source": [
    "x = 10\n",
    "\n",
    "if x % 2 == 0:\n",
    "    pass\n",
    "\n",
    "print(10)"
   ]
  },
  {
   "cell_type": "code",
   "execution_count": 9,
   "metadata": {},
   "outputs": [],
   "source": [
    "s = \"\"\"\n",
    "print(\"from script.py \",__name__)\n",
    "\n",
    "def funct():\n",
    "    print(\"funct\")\n",
    "\"\"\"\n",
    "with open('script.py','w') as f:\n",
    "    f.write(s)"
   ]
  },
  {
   "cell_type": "code",
   "execution_count": 7,
   "metadata": {},
   "outputs": [
    {
     "name": "stdout",
     "output_type": "stream",
     "text": [
      "script\n",
      "funct\n"
     ]
    }
   ],
   "source": [
    "import script\n",
    "script.funct()"
   ]
  },
  {
   "cell_type": "code",
   "execution_count": 4,
   "metadata": {},
   "outputs": [
    {
     "name": "stdout",
     "output_type": "stream",
     "text": [
      "__main__\n"
     ]
    }
   ],
   "source": [
    "import script\n",
    "print(__name__)"
   ]
  },
  {
   "cell_type": "code",
   "execution_count": 5,
   "metadata": {},
   "outputs": [
    {
     "name": "stdout",
     "output_type": "stream",
     "text": [
      "<function funct at 0x000002D6B4621C18>\n"
     ]
    }
   ],
   "source": [
    "print(script.funct)"
   ]
  },
  {
   "cell_type": "code",
   "execution_count": 2,
   "metadata": {},
   "outputs": [
    {
     "name": "stdout",
     "output_type": "stream",
     "text": [
      "<class 'pandas.core.frame.DataFrame'>\n"
     ]
    }
   ],
   "source": [
    "import pandas as pd\n",
    "print(pd.DataFrame)\n",
    "df.columns # attribute\n",
    "df.count() # function; methods"
   ]
  },
  {
   "cell_type": "code",
   "execution_count": null,
   "metadata": {},
   "outputs": [],
   "source": [
    "Temp:\n",
    "    - data   : is temp in C\n",
    "    - to_C() : return temp in C\n",
    "    - to_F() : return temp in F\n",
    "    - add(T) : adds T to value\n",
    "    - str    : for pretty printing"
   ]
  },
  {
   "cell_type": "code",
   "execution_count": 62,
   "metadata": {},
   "outputs": [
    {
     "name": "stdout",
     "output_type": "stream",
     "text": [
      "Temp : 35\n",
      "\n",
      "Temp : 30\n",
      "Temp : 5\n"
     ]
    }
   ],
   "source": [
    "class Temp:\n",
    "    def __init__(self, data):\n",
    "        self.__data = data\n",
    "    \n",
    "    def to_C(self, f):\n",
    "        self.__data  = f\n",
    "\n",
    "    def to_F(self, C):\n",
    "        self.__data=((C*9)/5)+32\n",
    "                \n",
    "    def add(self, T):\n",
    "        self.__data += T\n",
    "        \n",
    "    def __str__(self): # overriding default __str__\n",
    "        return \"Temp : %d\" % self.__data\n",
    "    \n",
    "    def __add__(self, other):\n",
    "        t = Temp(self.__data)\n",
    "        t.add(other.__data)\n",
    "        return t\n",
    "        \n",
    "\n",
    "t1 =  Temp(10)\n",
    "t2 =  Temp(5)\n",
    "t1.add(20)\n",
    "# t1.add(t2)\n",
    "\n",
    "r = t1 + t2 # t1.__add__(t2)\n",
    "print(r)\n",
    "print()\n",
    "print(t1)\n",
    "print(t2)"
   ]
  },
  {
   "cell_type": "code",
   "execution_count": null,
   "metadata": {},
   "outputs": [],
   "source": []
  },
  {
   "cell_type": "code",
   "execution_count": null,
   "metadata": {},
   "outputs": [],
   "source": []
  },
  {
   "cell_type": "code",
   "execution_count": null,
   "metadata": {},
   "outputs": [],
   "source": []
  }
 ],
 "metadata": {
  "kernelspec": {
   "display_name": "Python 3",
   "language": "python",
   "name": "python3"
  },
  "language_info": {
   "codemirror_mode": {
    "name": "ipython",
    "version": 3
   },
   "file_extension": ".py",
   "mimetype": "text/x-python",
   "name": "python",
   "nbconvert_exporter": "python",
   "pygments_lexer": "ipython3",
   "version": "3.7.4"
  }
 },
 "nbformat": 4,
 "nbformat_minor": 2
}
